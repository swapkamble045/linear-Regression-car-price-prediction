{
 "cells": [
  {
   "cell_type": "code",
   "execution_count": 3,
   "id": "b4ab46b4",
   "metadata": {},
   "outputs": [],
   "source": [
    "import pandas as pd\n",
    "import numpy as np\n",
    "\n",
    "import statsmodels\n",
    "from statsmodels.stats.anova import anova_lm\n",
    "from statsmodels.stats.outliers_influence import variance_inflation_factor\n",
    "\n",
    "import seaborn as sns\n",
    "from matplotlib import pyplot as plt\n",
    "%matplotlib inline"
   ]
  },
  {
   "cell_type": "code",
   "execution_count": 4,
   "id": "dd5f1ffb",
   "metadata": {},
   "outputs": [
    {
     "data": {
      "text/html": [
       "<div>\n",
       "<style scoped>\n",
       "    .dataframe tbody tr th:only-of-type {\n",
       "        vertical-align: middle;\n",
       "    }\n",
       "\n",
       "    .dataframe tbody tr th {\n",
       "        vertical-align: top;\n",
       "    }\n",
       "\n",
       "    .dataframe thead th {\n",
       "        text-align: right;\n",
       "    }\n",
       "</style>\n",
       "<table border=\"1\" class=\"dataframe\">\n",
       "  <thead>\n",
       "    <tr style=\"text-align: right;\">\n",
       "      <th></th>\n",
       "      <th>Price in thousands</th>\n",
       "      <th>Engine size</th>\n",
       "      <th>Horsepower</th>\n",
       "      <th>Wheelbase</th>\n",
       "      <th>Width</th>\n",
       "      <th>Length</th>\n",
       "      <th>Curb weight</th>\n",
       "      <th>Fuel capacity</th>\n",
       "      <th>Fuel efficiency</th>\n",
       "      <th>Resale</th>\n",
       "    </tr>\n",
       "  </thead>\n",
       "  <tbody>\n",
       "    <tr>\n",
       "      <th>0</th>\n",
       "      <td>21.50</td>\n",
       "      <td>1.8</td>\n",
       "      <td>140</td>\n",
       "      <td>101.2</td>\n",
       "      <td>67.3</td>\n",
       "      <td>172.4</td>\n",
       "      <td>2.639</td>\n",
       "      <td>13.2</td>\n",
       "      <td>28</td>\n",
       "      <td>16.360</td>\n",
       "    </tr>\n",
       "    <tr>\n",
       "      <th>1</th>\n",
       "      <td>28.40</td>\n",
       "      <td>3.2</td>\n",
       "      <td>225</td>\n",
       "      <td>108.1</td>\n",
       "      <td>70.3</td>\n",
       "      <td>192.9</td>\n",
       "      <td>3.517</td>\n",
       "      <td>17.2</td>\n",
       "      <td>25</td>\n",
       "      <td>19.875</td>\n",
       "    </tr>\n",
       "    <tr>\n",
       "      <th>2</th>\n",
       "      <td>35.00</td>\n",
       "      <td>3.2</td>\n",
       "      <td>225</td>\n",
       "      <td>106.9</td>\n",
       "      <td>70.6</td>\n",
       "      <td>192.0</td>\n",
       "      <td>3.470</td>\n",
       "      <td>17.2</td>\n",
       "      <td>26</td>\n",
       "      <td>18.225</td>\n",
       "    </tr>\n",
       "    <tr>\n",
       "      <th>3</th>\n",
       "      <td>42.00</td>\n",
       "      <td>3.5</td>\n",
       "      <td>210</td>\n",
       "      <td>114.6</td>\n",
       "      <td>71.4</td>\n",
       "      <td>196.6</td>\n",
       "      <td>3.850</td>\n",
       "      <td>18.0</td>\n",
       "      <td>22</td>\n",
       "      <td>29.725</td>\n",
       "    </tr>\n",
       "    <tr>\n",
       "      <th>4</th>\n",
       "      <td>23.99</td>\n",
       "      <td>1.8</td>\n",
       "      <td>150</td>\n",
       "      <td>102.6</td>\n",
       "      <td>68.2</td>\n",
       "      <td>178.0</td>\n",
       "      <td>2.998</td>\n",
       "      <td>16.4</td>\n",
       "      <td>27</td>\n",
       "      <td>22.255</td>\n",
       "    </tr>\n",
       "    <tr>\n",
       "      <th>...</th>\n",
       "      <td>...</td>\n",
       "      <td>...</td>\n",
       "      <td>...</td>\n",
       "      <td>...</td>\n",
       "      <td>...</td>\n",
       "      <td>...</td>\n",
       "      <td>...</td>\n",
       "      <td>...</td>\n",
       "      <td>...</td>\n",
       "      <td>...</td>\n",
       "    </tr>\n",
       "    <tr>\n",
       "      <th>151</th>\n",
       "      <td>24.40</td>\n",
       "      <td>1.9</td>\n",
       "      <td>160</td>\n",
       "      <td>100.5</td>\n",
       "      <td>67.6</td>\n",
       "      <td>176.6</td>\n",
       "      <td>3.042</td>\n",
       "      <td>15.8</td>\n",
       "      <td>25</td>\n",
       "      <td>18.061</td>\n",
       "    </tr>\n",
       "    <tr>\n",
       "      <th>152</th>\n",
       "      <td>27.50</td>\n",
       "      <td>2.4</td>\n",
       "      <td>168</td>\n",
       "      <td>104.9</td>\n",
       "      <td>69.3</td>\n",
       "      <td>185.9</td>\n",
       "      <td>3.208</td>\n",
       "      <td>17.9</td>\n",
       "      <td>25</td>\n",
       "      <td>18.061</td>\n",
       "    </tr>\n",
       "    <tr>\n",
       "      <th>153</th>\n",
       "      <td>28.80</td>\n",
       "      <td>2.4</td>\n",
       "      <td>168</td>\n",
       "      <td>104.9</td>\n",
       "      <td>69.3</td>\n",
       "      <td>186.2</td>\n",
       "      <td>3.259</td>\n",
       "      <td>17.9</td>\n",
       "      <td>25</td>\n",
       "      <td>18.061</td>\n",
       "    </tr>\n",
       "    <tr>\n",
       "      <th>154</th>\n",
       "      <td>45.50</td>\n",
       "      <td>2.3</td>\n",
       "      <td>236</td>\n",
       "      <td>104.9</td>\n",
       "      <td>71.5</td>\n",
       "      <td>185.7</td>\n",
       "      <td>3.601</td>\n",
       "      <td>18.5</td>\n",
       "      <td>23</td>\n",
       "      <td>18.061</td>\n",
       "    </tr>\n",
       "    <tr>\n",
       "      <th>155</th>\n",
       "      <td>36.00</td>\n",
       "      <td>2.9</td>\n",
       "      <td>201</td>\n",
       "      <td>109.9</td>\n",
       "      <td>72.1</td>\n",
       "      <td>189.8</td>\n",
       "      <td>3.600</td>\n",
       "      <td>21.1</td>\n",
       "      <td>24</td>\n",
       "      <td>18.061</td>\n",
       "    </tr>\n",
       "  </tbody>\n",
       "</table>\n",
       "<p>156 rows × 10 columns</p>\n",
       "</div>"
      ],
      "text/plain": [
       "     Price in thousands  Engine size  Horsepower  Wheelbase  Width  Length  \\\n",
       "0                 21.50          1.8         140      101.2   67.3   172.4   \n",
       "1                 28.40          3.2         225      108.1   70.3   192.9   \n",
       "2                 35.00          3.2         225      106.9   70.6   192.0   \n",
       "3                 42.00          3.5         210      114.6   71.4   196.6   \n",
       "4                 23.99          1.8         150      102.6   68.2   178.0   \n",
       "..                  ...          ...         ...        ...    ...     ...   \n",
       "151               24.40          1.9         160      100.5   67.6   176.6   \n",
       "152               27.50          2.4         168      104.9   69.3   185.9   \n",
       "153               28.80          2.4         168      104.9   69.3   186.2   \n",
       "154               45.50          2.3         236      104.9   71.5   185.7   \n",
       "155               36.00          2.9         201      109.9   72.1   189.8   \n",
       "\n",
       "     Curb weight  Fuel capacity  Fuel efficiency  Resale  \n",
       "0          2.639           13.2               28  16.360  \n",
       "1          3.517           17.2               25  19.875  \n",
       "2          3.470           17.2               26  18.225  \n",
       "3          3.850           18.0               22  29.725  \n",
       "4          2.998           16.4               27  22.255  \n",
       "..           ...            ...              ...     ...  \n",
       "151        3.042           15.8               25  18.061  \n",
       "152        3.208           17.9               25  18.061  \n",
       "153        3.259           17.9               25  18.061  \n",
       "154        3.601           18.5               23  18.061  \n",
       "155        3.600           21.1               24  18.061  \n",
       "\n",
       "[156 rows x 10 columns]"
      ]
     },
     "execution_count": 4,
     "metadata": {},
     "output_type": "execute_result"
    }
   ],
   "source": [
    "new = pd.read_excel(r\"C:\\Users\\swapn\\Downloads\\Car Price Prediction.xlsx\")\n",
    "new"
   ]
  },
  {
   "cell_type": "code",
   "execution_count": 5,
   "id": "7ad088c3",
   "metadata": {},
   "outputs": [
    {
     "data": {
      "text/plain": [
       "Price in thousands    0\n",
       "Engine size           0\n",
       "Horsepower            0\n",
       "Wheelbase             0\n",
       "Width                 0\n",
       "Length                0\n",
       "Curb weight           0\n",
       "Fuel capacity         0\n",
       "Fuel efficiency       0\n",
       "Resale                0\n",
       "dtype: int64"
      ]
     },
     "execution_count": 5,
     "metadata": {},
     "output_type": "execute_result"
    }
   ],
   "source": [
    "new.isnull().sum()"
   ]
  },
  {
   "cell_type": "code",
   "execution_count": 6,
   "id": "3044b588",
   "metadata": {},
   "outputs": [
    {
     "name": "stdout",
     "output_type": "stream",
     "text": [
      "<class 'pandas.core.frame.DataFrame'>\n",
      "RangeIndex: 156 entries, 0 to 155\n",
      "Data columns (total 10 columns):\n",
      " #   Column              Non-Null Count  Dtype  \n",
      "---  ------              --------------  -----  \n",
      " 0   Price in thousands  156 non-null    float64\n",
      " 1   Engine size         156 non-null    float64\n",
      " 2   Horsepower          156 non-null    int64  \n",
      " 3   Wheelbase           156 non-null    float64\n",
      " 4   Width               156 non-null    float64\n",
      " 5   Length              156 non-null    float64\n",
      " 6   Curb weight         156 non-null    float64\n",
      " 7   Fuel capacity       156 non-null    float64\n",
      " 8   Fuel efficiency     156 non-null    int64  \n",
      " 9   Resale              156 non-null    float64\n",
      "dtypes: float64(8), int64(2)\n",
      "memory usage: 12.3 KB\n"
     ]
    }
   ],
   "source": [
    "new.info()"
   ]
  },
  {
   "cell_type": "code",
   "execution_count": 7,
   "id": "58366c80",
   "metadata": {},
   "outputs": [
    {
     "data": {
      "text/html": [
       "<div>\n",
       "<style scoped>\n",
       "    .dataframe tbody tr th:only-of-type {\n",
       "        vertical-align: middle;\n",
       "    }\n",
       "\n",
       "    .dataframe tbody tr th {\n",
       "        vertical-align: top;\n",
       "    }\n",
       "\n",
       "    .dataframe thead th {\n",
       "        text-align: right;\n",
       "    }\n",
       "</style>\n",
       "<table border=\"1\" class=\"dataframe\">\n",
       "  <thead>\n",
       "    <tr style=\"text-align: right;\">\n",
       "      <th></th>\n",
       "      <th>Price in thousands</th>\n",
       "      <th>Engine size</th>\n",
       "      <th>Horsepower</th>\n",
       "      <th>Wheelbase</th>\n",
       "      <th>Width</th>\n",
       "      <th>Length</th>\n",
       "      <th>Curb weight</th>\n",
       "      <th>Fuel capacity</th>\n",
       "      <th>Fuel efficiency</th>\n",
       "      <th>Resale</th>\n",
       "    </tr>\n",
       "  </thead>\n",
       "  <tbody>\n",
       "    <tr>\n",
       "      <th>count</th>\n",
       "      <td>156.000000</td>\n",
       "      <td>156.000000</td>\n",
       "      <td>156.000000</td>\n",
       "      <td>156.000000</td>\n",
       "      <td>156.000000</td>\n",
       "      <td>156.000000</td>\n",
       "      <td>156.000000</td>\n",
       "      <td>156.000000</td>\n",
       "      <td>156.000000</td>\n",
       "      <td>156.000000</td>\n",
       "    </tr>\n",
       "    <tr>\n",
       "      <th>mean</th>\n",
       "      <td>27.439532</td>\n",
       "      <td>3.060897</td>\n",
       "      <td>185.948718</td>\n",
       "      <td>107.487179</td>\n",
       "      <td>71.150000</td>\n",
       "      <td>187.343590</td>\n",
       "      <td>3.381949</td>\n",
       "      <td>17.951923</td>\n",
       "      <td>23.878205</td>\n",
       "      <td>18.060808</td>\n",
       "    </tr>\n",
       "    <tr>\n",
       "      <th>std</th>\n",
       "      <td>14.318249</td>\n",
       "      <td>1.044653</td>\n",
       "      <td>56.700321</td>\n",
       "      <td>7.641303</td>\n",
       "      <td>3.451872</td>\n",
       "      <td>13.431754</td>\n",
       "      <td>0.630372</td>\n",
       "      <td>3.887921</td>\n",
       "      <td>4.296049</td>\n",
       "      <td>10.076940</td>\n",
       "    </tr>\n",
       "    <tr>\n",
       "      <th>min</th>\n",
       "      <td>9.235000</td>\n",
       "      <td>1.000000</td>\n",
       "      <td>55.000000</td>\n",
       "      <td>92.600000</td>\n",
       "      <td>62.600000</td>\n",
       "      <td>149.400000</td>\n",
       "      <td>1.895000</td>\n",
       "      <td>10.300000</td>\n",
       "      <td>15.000000</td>\n",
       "      <td>5.160000</td>\n",
       "    </tr>\n",
       "    <tr>\n",
       "      <th>25%</th>\n",
       "      <td>18.081250</td>\n",
       "      <td>2.300000</td>\n",
       "      <td>149.500000</td>\n",
       "      <td>103.000000</td>\n",
       "      <td>68.400000</td>\n",
       "      <td>177.575000</td>\n",
       "      <td>2.973000</td>\n",
       "      <td>15.800000</td>\n",
       "      <td>21.000000</td>\n",
       "      <td>12.527500</td>\n",
       "    </tr>\n",
       "    <tr>\n",
       "      <th>50%</th>\n",
       "      <td>23.099500</td>\n",
       "      <td>3.000000</td>\n",
       "      <td>177.500000</td>\n",
       "      <td>107.000000</td>\n",
       "      <td>70.550000</td>\n",
       "      <td>187.900000</td>\n",
       "      <td>3.355000</td>\n",
       "      <td>17.200000</td>\n",
       "      <td>24.000000</td>\n",
       "      <td>17.617500</td>\n",
       "    </tr>\n",
       "    <tr>\n",
       "      <th>75%</th>\n",
       "      <td>32.253750</td>\n",
       "      <td>3.575000</td>\n",
       "      <td>215.000000</td>\n",
       "      <td>112.200000</td>\n",
       "      <td>73.425000</td>\n",
       "      <td>196.125000</td>\n",
       "      <td>3.821500</td>\n",
       "      <td>19.575000</td>\n",
       "      <td>26.000000</td>\n",
       "      <td>18.080750</td>\n",
       "    </tr>\n",
       "    <tr>\n",
       "      <th>max</th>\n",
       "      <td>85.500000</td>\n",
       "      <td>8.000000</td>\n",
       "      <td>450.000000</td>\n",
       "      <td>138.700000</td>\n",
       "      <td>79.900000</td>\n",
       "      <td>224.500000</td>\n",
       "      <td>5.572000</td>\n",
       "      <td>32.000000</td>\n",
       "      <td>45.000000</td>\n",
       "      <td>67.550000</td>\n",
       "    </tr>\n",
       "  </tbody>\n",
       "</table>\n",
       "</div>"
      ],
      "text/plain": [
       "       Price in thousands  Engine size  Horsepower   Wheelbase       Width  \\\n",
       "count          156.000000   156.000000  156.000000  156.000000  156.000000   \n",
       "mean            27.439532     3.060897  185.948718  107.487179   71.150000   \n",
       "std             14.318249     1.044653   56.700321    7.641303    3.451872   \n",
       "min              9.235000     1.000000   55.000000   92.600000   62.600000   \n",
       "25%             18.081250     2.300000  149.500000  103.000000   68.400000   \n",
       "50%             23.099500     3.000000  177.500000  107.000000   70.550000   \n",
       "75%             32.253750     3.575000  215.000000  112.200000   73.425000   \n",
       "max             85.500000     8.000000  450.000000  138.700000   79.900000   \n",
       "\n",
       "           Length  Curb weight  Fuel capacity  Fuel efficiency      Resale  \n",
       "count  156.000000   156.000000     156.000000       156.000000  156.000000  \n",
       "mean   187.343590     3.381949      17.951923        23.878205   18.060808  \n",
       "std     13.431754     0.630372       3.887921         4.296049   10.076940  \n",
       "min    149.400000     1.895000      10.300000        15.000000    5.160000  \n",
       "25%    177.575000     2.973000      15.800000        21.000000   12.527500  \n",
       "50%    187.900000     3.355000      17.200000        24.000000   17.617500  \n",
       "75%    196.125000     3.821500      19.575000        26.000000   18.080750  \n",
       "max    224.500000     5.572000      32.000000        45.000000   67.550000  "
      ]
     },
     "execution_count": 7,
     "metadata": {},
     "output_type": "execute_result"
    }
   ],
   "source": [
    "new.describe()"
   ]
  },
  {
   "cell_type": "code",
   "execution_count": 8,
   "id": "97e9a6cd",
   "metadata": {},
   "outputs": [
    {
     "data": {
      "text/plain": [
       "<AxesSubplot:>"
      ]
     },
     "execution_count": 8,
     "metadata": {},
     "output_type": "execute_result"
    },
    {
     "data": {
      "image/png": "[encoded data removed]",
      "text/plain": [
       "<Figure size 432x288 with 1 Axes>"
      ]
     },
     "metadata": {
      "needs_background": "light"
     },
     "output_type": "display_data"
    }
   ],
   "source": [
    "sns.boxplot(data=new)"
   ]
  },
  {
   "cell_type": "code",
   "execution_count": 9,
   "id": "05f2c2c1",
   "metadata": {},
   "outputs": [
    {
     "data": {
      "text/plain": [
       "313.25"
      ]
     },
     "execution_count": 9,
     "metadata": {},
     "output_type": "execute_result"
    }
   ],
   "source": [
    "q1 = new['Horsepower'].quantile(0.25)\n",
    "q3 = new['Horsepower'].quantile(0.75)\n",
    "iqr = q3-q1\n",
    "upper_limit = q3 + 1.5*iqr\n",
    "upper_limit"
   ]
  },
  {
   "cell_type": "code",
   "execution_count": 10,
   "id": "741c7822",
   "metadata": {},
   "outputs": [],
   "source": [
    "new['Horsepower']=np.where(new['Horsepower']> upper_limit,upper_limit,new['Horsepower'])"
   ]
  },
  {
   "cell_type": "code",
   "execution_count": 11,
   "id": "46d6cc4a",
   "metadata": {},
   "outputs": [
    {
     "data": {
      "text/plain": [
       "<AxesSubplot:>"
      ]
     },
     "execution_count": 11,
     "metadata": {},
     "output_type": "execute_result"
    },
    {
     "data": {
      "image/png": "[encoded data removed]",
      "text/plain": [
       "<Figure size 432x288 with 1 Axes>"
      ]
     },
     "metadata": {
      "needs_background": "light"
     },
     "output_type": "display_data"
    }
   ],
   "source": [
    "sns.boxplot(data=new)"
   ]
  },
  {
   "cell_type": "code",
   "execution_count": 12,
   "id": "235b0525",
   "metadata": {},
   "outputs": [
    {
     "data": {
      "text/plain": [
       "5.487500000000001"
      ]
     },
     "execution_count": 12,
     "metadata": {},
     "output_type": "execute_result"
    }
   ],
   "source": [
    "q1 = new['Engine size'].quantile(0.25)\n",
    "q3 = new['Engine size'].quantile(0.75)\n",
    "iqr = q3-q1\n",
    "upper_limit = q3 + 1.5*iqr\n",
    "upper_limit"
   ]
  },
  {
   "cell_type": "code",
   "execution_count": 13,
   "id": "2a671fe7",
   "metadata": {},
   "outputs": [],
   "source": [
    "new['Engine size']=np.where(new['Engine size']> upper_limit,upper_limit,new['Engine size'])"
   ]
  },
  {
   "cell_type": "code",
   "execution_count": 14,
   "id": "c1c6254b",
   "metadata": {},
   "outputs": [
    {
     "data": {
      "text/plain": [
       "<AxesSubplot:>"
      ]
     },
     "execution_count": 14,
     "metadata": {},
     "output_type": "execute_result"
    },
    {
     "data": {
      "image/png": "[encoded data removed]",
      "text/plain": [
       "<Figure size 432x288 with 1 Axes>"
      ]
     },
     "metadata": {
      "needs_background": "light"
     },
     "output_type": "display_data"
    }
   ],
   "source": [
    "sns.boxplot(data=new)"
   ]
  },
  {
   "cell_type": "code",
   "execution_count": 15,
   "id": "136f6f8b",
   "metadata": {},
   "outputs": [
    {
     "data": {
      "text/plain": [
       "53.51249999999999"
      ]
     },
     "execution_count": 15,
     "metadata": {},
     "output_type": "execute_result"
    }
   ],
   "source": [
    "q1 = new['Price in thousands'].quantile(0.25)\n",
    "q3 = new['Price in thousands'].quantile(0.75)\n",
    "iqr = q3-q1\n",
    "upper_limit = q3 + 1.5*iqr\n",
    "upper_limit"
   ]
  },
  {
   "cell_type": "code",
   "execution_count": 16,
   "id": "61db1c54",
   "metadata": {},
   "outputs": [],
   "source": [
    "new['Price in thousands']=np.where(new['Price in thousands']> upper_limit,upper_limit,new['Price in thousands'])"
   ]
  },
  {
   "cell_type": "code",
   "execution_count": 17,
   "id": "806e7cfa",
   "metadata": {},
   "outputs": [
    {
     "data": {
      "text/plain": [
       "<AxesSubplot:>"
      ]
     },
     "execution_count": 17,
     "metadata": {},
     "output_type": "execute_result"
    },
    {
     "data": {
      "image/png": "[encoded data removed]",
      "text/plain": [
       "<Figure size 432x288 with 1 Axes>"
      ]
     },
     "metadata": {
      "needs_background": "light"
     },
     "output_type": "display_data"
    }
   ],
   "source": [
    "sns.boxplot(data=new)"
   ]
  },
  {
   "cell_type": "code",
   "execution_count": 18,
   "id": "1cb7e06e",
   "metadata": {},
   "outputs": [
    {
     "data": {
      "text/plain": [
       "126.0"
      ]
     },
     "execution_count": 18,
     "metadata": {},
     "output_type": "execute_result"
    }
   ],
   "source": [
    "q1 = new['Wheelbase'].quantile(0.25)\n",
    "q3 = new['Wheelbase'].quantile(0.75)\n",
    "iqr = q3-q1\n",
    "upper_limit = q3 + 1.5*iqr\n",
    "upper_limit"
   ]
  },
  {
   "cell_type": "code",
   "execution_count": 19,
   "id": "d74fc637",
   "metadata": {},
   "outputs": [],
   "source": [
    "new['Wheelbase']=np.where(new['Wheelbase']> upper_limit,upper_limit,new['Wheelbase'])"
   ]
  },
  {
   "cell_type": "code",
   "execution_count": 20,
   "id": "d10f2e11",
   "metadata": {},
   "outputs": [
    {
     "data": {
      "text/plain": [
       "<AxesSubplot:>"
      ]
     },
     "execution_count": 20,
     "metadata": {},
     "output_type": "execute_result"
    },
    {
     "data": {
      "image/png": "[encoded data removed]",
      "text/plain": [
       "<Figure size 432x288 with 1 Axes>"
      ]
     },
     "metadata": {
      "needs_background": "light"
     },
     "output_type": "display_data"
    }
   ],
   "source": [
    "sns.boxplot(data=new)"
   ]
  },
  {
   "cell_type": "code",
   "execution_count": 21,
   "id": "ec08e1d0",
   "metadata": {},
   "outputs": [
    {
     "data": {
      "text/plain": [
       "80.96250000000002"
      ]
     },
     "execution_count": 21,
     "metadata": {},
     "output_type": "execute_result"
    }
   ],
   "source": [
    "q1 = new['Width'].quantile(0.25)\n",
    "q3 = new['Width'].quantile(0.75)\n",
    "iqr = q3-q1\n",
    "upper_limit = q3 + 1.5*iqr\n",
    "upper_limit"
   ]
  },
  {
   "cell_type": "code",
   "execution_count": 22,
   "id": "ca933605",
   "metadata": {},
   "outputs": [],
   "source": [
    "new['Width']=np.where(new['Width']> upper_limit,upper_limit,new['Width'])"
   ]
  },
  {
   "cell_type": "code",
   "execution_count": 23,
   "id": "473a2011",
   "metadata": {},
   "outputs": [
    {
     "data": {
      "text/plain": [
       "<AxesSubplot:>"
      ]
     },
     "execution_count": 23,
     "metadata": {},
     "output_type": "execute_result"
    },
    {
     "data": {
      "image/png": "[encoded data removed]",
      "text/plain": [
       "<Figure size 432x288 with 1 Axes>"
      ]
     },
     "metadata": {
      "needs_background": "light"
     },
     "output_type": "display_data"
    }
   ],
   "source": [
    "sns.boxplot(data=new)"
   ]
  },
  {
   "cell_type": "code",
   "execution_count": 24,
   "id": "d8d093a7",
   "metadata": {},
   "outputs": [
    {
     "name": "stdout",
     "output_type": "stream",
     "text": [
      "223.95000000000002\n",
      "168.29999999999998\n"
     ]
    }
   ],
   "source": [
    "q1 = new['Length'].quantile(0.25)\n",
    "q3 = new['Length'].quantile(0.75)\n",
    "iqr = q3 - q1\n",
    "upper_limit = q3 + 1.5*iqr\n",
    "print(upper_limit)\n",
    "lower_limit = q3 - 1.5*iqr\n",
    "print(lower_limit)"
   ]
  },
  {
   "cell_type": "code",
   "execution_count": 25,
   "id": "c48e317d",
   "metadata": {},
   "outputs": [],
   "source": [
    "new['Length']=np.where(new['Length']> upper_limit,upper_limit,new['Length'])\n",
    "new['Length']=np.where(new['Length']< lower_limit,lower_limit,new['Length'])"
   ]
  },
  {
   "cell_type": "code",
   "execution_count": 26,
   "id": "00dfc32e",
   "metadata": {},
   "outputs": [
    {
     "data": {
      "text/plain": [
       "<AxesSubplot:>"
      ]
     },
     "execution_count": 26,
     "metadata": {},
     "output_type": "execute_result"
    },
    {
     "data": {
      "image/png": "[encoded data removed]",
      "text/plain": [
       "<Figure size 432x288 with 1 Axes>"
      ]
     },
     "metadata": {
      "needs_background": "light"
     },
     "output_type": "display_data"
    }
   ],
   "source": [
    "sns.boxplot(data=new)"
   ]
  },
  {
   "cell_type": "code",
   "execution_count": 27,
   "id": "1ce7a5b8",
   "metadata": {},
   "outputs": [
    {
     "data": {
      "text/plain": [
       "5.094250000000001"
      ]
     },
     "execution_count": 27,
     "metadata": {},
     "output_type": "execute_result"
    }
   ],
   "source": [
    "q1 = new[\"Curb weight\"].quantile(0.25)\n",
    "q3 = new['Curb weight'].quantile(0.75)\n",
    "iqr = q3 - q1\n",
    "upper_limit = q3 + 1.5*iqr\n",
    "upper_limit"
   ]
  },
  {
   "cell_type": "code",
   "execution_count": 28,
   "id": "bda90e44",
   "metadata": {},
   "outputs": [],
   "source": [
    "new['Curb weight']=np.where(new['Curb weight']> upper_limit,upper_limit,new['Curb weight'])"
   ]
  },
  {
   "cell_type": "code",
   "execution_count": 29,
   "id": "5012ec9e",
   "metadata": {},
   "outputs": [
    {
     "data": {
      "text/plain": [
       "<AxesSubplot:>"
      ]
     },
     "execution_count": 29,
     "metadata": {},
     "output_type": "execute_result"
    },
    {
     "data": {
      "image/png": "[encoded data removed]",
      "text/plain": [
       "<Figure size 432x288 with 1 Axes>"
      ]
     },
     "metadata": {
      "needs_background": "light"
     },
     "output_type": "display_data"
    }
   ],
   "source": [
    "sns.boxplot(data=new)"
   ]
  },
  {
   "cell_type": "code",
   "execution_count": 30,
   "id": "94042b52",
   "metadata": {},
   "outputs": [
    {
     "data": {
      "text/plain": [
       "25.237499999999997"
      ]
     },
     "execution_count": 30,
     "metadata": {},
     "output_type": "execute_result"
    }
   ],
   "source": [
    "q1 = new['Fuel capacity'].quantile(0.25)\n",
    "q3 = new['Fuel capacity'].quantile(0.75)\n",
    "iqr = q3 - q1\n",
    "upper_limit = q3 + 1.5*iqr\n",
    "upper_limit"
   ]
  },
  {
   "cell_type": "code",
   "execution_count": 31,
   "id": "bced436a",
   "metadata": {},
   "outputs": [],
   "source": [
    "new['Fuel capacity']=np.where(new['Fuel capacity']> upper_limit,upper_limit,new['Fuel capacity'])"
   ]
  },
  {
   "cell_type": "code",
   "execution_count": 32,
   "id": "959e1a99",
   "metadata": {},
   "outputs": [
    {
     "data": {
      "text/plain": [
       "<AxesSubplot:>"
      ]
     },
     "execution_count": 32,
     "metadata": {},
     "output_type": "execute_result"
    },
    {
     "data": {
      "image/png": "[encoded data removed]",
      "text/plain": [
       "<Figure size 432x288 with 1 Axes>"
      ]
     },
     "metadata": {
      "needs_background": "light"
     },
     "output_type": "display_data"
    }
   ],
   "source": [
    "sns.boxplot(data=new)"
   ]
  },
  {
   "cell_type": "code",
   "execution_count": 33,
   "id": "93899898",
   "metadata": {},
   "outputs": [
    {
     "data": {
      "text/plain": [
       "33.5"
      ]
     },
     "execution_count": 33,
     "metadata": {},
     "output_type": "execute_result"
    }
   ],
   "source": [
    "q1 = new['Fuel efficiency'].quantile(0.25)\n",
    "q3 = new['Fuel efficiency'].quantile(0.75)\n",
    "iqr = q3 - q1\n",
    "upper_limit = q3 + 1.5*iqr\n",
    "upper_limit"
   ]
  },
  {
   "cell_type": "code",
   "execution_count": 34,
   "id": "9a184403",
   "metadata": {},
   "outputs": [],
   "source": [
    "new['Fuel efficiency']=np.where(new['Fuel efficiency']> upper_limit,upper_limit,new['Fuel efficiency'])"
   ]
  },
  {
   "cell_type": "code",
   "execution_count": 35,
   "id": "e1237ef4",
   "metadata": {},
   "outputs": [
    {
     "data": {
      "text/plain": [
       "<AxesSubplot:>"
      ]
     },
     "execution_count": 35,
     "metadata": {},
     "output_type": "execute_result"
    },
    {
     "data": {
      "image/png": "[encoded data removed]",
      "text/plain": [
       "<Figure size 432x288 with 1 Axes>"
      ]
     },
     "metadata": {
      "needs_background": "light"
     },
     "output_type": "display_data"
    }
   ],
   "source": [
    "sns.boxplot(data=new)"
   ]
  },
  {
   "cell_type": "code",
   "execution_count": 36,
   "id": "9d95be08",
   "metadata": {},
   "outputs": [
    {
     "data": {
      "text/plain": [
       "26.410625000000003"
      ]
     },
     "execution_count": 36,
     "metadata": {},
     "output_type": "execute_result"
    }
   ],
   "source": [
    "q1 = new['Resale'].quantile(0.25)\n",
    "q3 = new['Resale'].quantile(0.75)\n",
    "iqr = q3 - q1\n",
    "upper_limit = q3 + 1.5*iqr\n",
    "upper_limit"
   ]
  },
  {
   "cell_type": "code",
   "execution_count": 37,
   "id": "6ac94538",
   "metadata": {},
   "outputs": [],
   "source": [
    "new['Resale']=np.where(new['Resale']> upper_limit,upper_limit,new['Resale'])"
   ]
  },
  {
   "cell_type": "code",
   "execution_count": 38,
   "id": "4586cd5d",
   "metadata": {},
   "outputs": [
    {
     "data": {
      "text/plain": [
       "<AxesSubplot:>"
      ]
     },
     "execution_count": 38,
     "metadata": {},
     "output_type": "execute_result"
    },
    {
     "data": {
      "image/png": "[encoded data removed]",
      "text/plain": [
       "<Figure size 432x288 with 1 Axes>"
      ]
     },
     "metadata": {
      "needs_background": "light"
     },
     "output_type": "display_data"
    }
   ],
   "source": [
    "sns.boxplot(data=new['Resale'])"
   ]
  },
  {
   "cell_type": "code",
   "execution_count": 39,
   "id": "cb7bc193",
   "metadata": {},
   "outputs": [
    {
     "data": {
      "text/html": [
       "<div>\n",
       "<style scoped>\n",
       "    .dataframe tbody tr th:only-of-type {\n",
       "        vertical-align: middle;\n",
       "    }\n",
       "\n",
       "    .dataframe tbody tr th {\n",
       "        vertical-align: top;\n",
       "    }\n",
       "\n",
       "    .dataframe thead th {\n",
       "        text-align: right;\n",
       "    }\n",
       "</style>\n",
       "<table border=\"1\" class=\"dataframe\">\n",
       "  <thead>\n",
       "    <tr style=\"text-align: right;\">\n",
       "      <th></th>\n",
       "      <th>Price in thousands</th>\n",
       "      <th>Engine size</th>\n",
       "      <th>Horsepower</th>\n",
       "      <th>Wheelbase</th>\n",
       "      <th>Width</th>\n",
       "      <th>Length</th>\n",
       "      <th>Curb weight</th>\n",
       "      <th>Fuel capacity</th>\n",
       "      <th>Fuel efficiency</th>\n",
       "      <th>Resale</th>\n",
       "    </tr>\n",
       "  </thead>\n",
       "  <tbody>\n",
       "    <tr>\n",
       "      <th>0</th>\n",
       "      <td>21.50</td>\n",
       "      <td>1.8</td>\n",
       "      <td>140.0</td>\n",
       "      <td>101.2</td>\n",
       "      <td>67.3</td>\n",
       "      <td>172.4</td>\n",
       "      <td>2.639</td>\n",
       "      <td>13.2</td>\n",
       "      <td>28.0</td>\n",
       "      <td>16.360000</td>\n",
       "    </tr>\n",
       "    <tr>\n",
       "      <th>1</th>\n",
       "      <td>28.40</td>\n",
       "      <td>3.2</td>\n",
       "      <td>225.0</td>\n",
       "      <td>108.1</td>\n",
       "      <td>70.3</td>\n",
       "      <td>192.9</td>\n",
       "      <td>3.517</td>\n",
       "      <td>17.2</td>\n",
       "      <td>25.0</td>\n",
       "      <td>19.875000</td>\n",
       "    </tr>\n",
       "    <tr>\n",
       "      <th>2</th>\n",
       "      <td>35.00</td>\n",
       "      <td>3.2</td>\n",
       "      <td>225.0</td>\n",
       "      <td>106.9</td>\n",
       "      <td>70.6</td>\n",
       "      <td>192.0</td>\n",
       "      <td>3.470</td>\n",
       "      <td>17.2</td>\n",
       "      <td>26.0</td>\n",
       "      <td>18.225000</td>\n",
       "    </tr>\n",
       "    <tr>\n",
       "      <th>3</th>\n",
       "      <td>42.00</td>\n",
       "      <td>3.5</td>\n",
       "      <td>210.0</td>\n",
       "      <td>114.6</td>\n",
       "      <td>71.4</td>\n",
       "      <td>196.6</td>\n",
       "      <td>3.850</td>\n",
       "      <td>18.0</td>\n",
       "      <td>22.0</td>\n",
       "      <td>26.410625</td>\n",
       "    </tr>\n",
       "    <tr>\n",
       "      <th>4</th>\n",
       "      <td>23.99</td>\n",
       "      <td>1.8</td>\n",
       "      <td>150.0</td>\n",
       "      <td>102.6</td>\n",
       "      <td>68.2</td>\n",
       "      <td>178.0</td>\n",
       "      <td>2.998</td>\n",
       "      <td>16.4</td>\n",
       "      <td>27.0</td>\n",
       "      <td>22.255000</td>\n",
       "    </tr>\n",
       "  </tbody>\n",
       "</table>\n",
       "</div>"
      ],
      "text/plain": [
       "   Price in thousands  Engine size  Horsepower  Wheelbase  Width  Length  \\\n",
       "0               21.50          1.8       140.0      101.2   67.3   172.4   \n",
       "1               28.40          3.2       225.0      108.1   70.3   192.9   \n",
       "2               35.00          3.2       225.0      106.9   70.6   192.0   \n",
       "3               42.00          3.5       210.0      114.6   71.4   196.6   \n",
       "4               23.99          1.8       150.0      102.6   68.2   178.0   \n",
       "\n",
       "   Curb weight  Fuel capacity  Fuel efficiency     Resale  \n",
       "0        2.639           13.2             28.0  16.360000  \n",
       "1        3.517           17.2             25.0  19.875000  \n",
       "2        3.470           17.2             26.0  18.225000  \n",
       "3        3.850           18.0             22.0  26.410625  \n",
       "4        2.998           16.4             27.0  22.255000  "
      ]
     },
     "execution_count": 39,
     "metadata": {},
     "output_type": "execute_result"
    }
   ],
   "source": [
    "new.head()"
   ]
  },
  {
   "cell_type": "code",
   "execution_count": 40,
   "id": "693252a5",
   "metadata": {},
   "outputs": [],
   "source": [
    "X = new.drop('Price in thousands',axis= 1)\n",
    "\n",
    "Y = new[['Price in thousands']]\n",
    "\n",
    "from sklearn.model_selection import train_test_split\n",
    "X_train, X_test, Y_train, Y_test =train_test_split(X, Y, train_size=0.7 ,random_state=120)"
   ]
  },
  {
   "cell_type": "code",
   "execution_count": 41,
   "id": "eb3adff9",
   "metadata": {},
   "outputs": [
    {
     "data": {
      "text/html": [
       "<div>\n",
       "<style scoped>\n",
       "    .dataframe tbody tr th:only-of-type {\n",
       "        vertical-align: middle;\n",
       "    }\n",
       "\n",
       "    .dataframe tbody tr th {\n",
       "        vertical-align: top;\n",
       "    }\n",
       "\n",
       "    .dataframe thead th {\n",
       "        text-align: right;\n",
       "    }\n",
       "</style>\n",
       "<table border=\"1\" class=\"dataframe\">\n",
       "  <thead>\n",
       "    <tr style=\"text-align: right;\">\n",
       "      <th></th>\n",
       "      <th>Price in thousands</th>\n",
       "      <th>Engine size</th>\n",
       "      <th>Horsepower</th>\n",
       "      <th>Wheelbase</th>\n",
       "      <th>Width</th>\n",
       "      <th>Length</th>\n",
       "      <th>Curb weight</th>\n",
       "      <th>Fuel capacity</th>\n",
       "      <th>Fuel efficiency</th>\n",
       "      <th>Resale</th>\n",
       "    </tr>\n",
       "  </thead>\n",
       "  <tbody>\n",
       "    <tr>\n",
       "      <th>59</th>\n",
       "      <td>26.60</td>\n",
       "      <td>3.2</td>\n",
       "      <td>205.0</td>\n",
       "      <td>106.4</td>\n",
       "      <td>70.4</td>\n",
       "      <td>178.2</td>\n",
       "      <td>3.857</td>\n",
       "      <td>21.1</td>\n",
       "      <td>19.0</td>\n",
       "      <td>17.525000</td>\n",
       "    </tr>\n",
       "    <tr>\n",
       "      <th>3</th>\n",
       "      <td>42.00</td>\n",
       "      <td>3.5</td>\n",
       "      <td>210.0</td>\n",
       "      <td>114.6</td>\n",
       "      <td>71.4</td>\n",
       "      <td>196.6</td>\n",
       "      <td>3.850</td>\n",
       "      <td>18.0</td>\n",
       "      <td>22.0</td>\n",
       "      <td>26.410625</td>\n",
       "    </tr>\n",
       "    <tr>\n",
       "      <th>113</th>\n",
       "      <td>12.64</td>\n",
       "      <td>2.0</td>\n",
       "      <td>132.0</td>\n",
       "      <td>105.0</td>\n",
       "      <td>74.4</td>\n",
       "      <td>174.4</td>\n",
       "      <td>2.559</td>\n",
       "      <td>12.5</td>\n",
       "      <td>29.0</td>\n",
       "      <td>7.750000</td>\n",
       "    </tr>\n",
       "    <tr>\n",
       "      <th>85</th>\n",
       "      <td>16.24</td>\n",
       "      <td>2.0</td>\n",
       "      <td>125.0</td>\n",
       "      <td>106.5</td>\n",
       "      <td>69.1</td>\n",
       "      <td>184.8</td>\n",
       "      <td>2.769</td>\n",
       "      <td>15.0</td>\n",
       "      <td>28.0</td>\n",
       "      <td>8.800000</td>\n",
       "    </tr>\n",
       "    <tr>\n",
       "      <th>152</th>\n",
       "      <td>27.50</td>\n",
       "      <td>2.4</td>\n",
       "      <td>168.0</td>\n",
       "      <td>104.9</td>\n",
       "      <td>69.3</td>\n",
       "      <td>185.9</td>\n",
       "      <td>3.208</td>\n",
       "      <td>17.9</td>\n",
       "      <td>25.0</td>\n",
       "      <td>18.061000</td>\n",
       "    </tr>\n",
       "  </tbody>\n",
       "</table>\n",
       "</div>"
      ],
      "text/plain": [
       "     Price in thousands  Engine size  Horsepower  Wheelbase  Width  Length  \\\n",
       "59                26.60          3.2       205.0      106.4   70.4   178.2   \n",
       "3                 42.00          3.5       210.0      114.6   71.4   196.6   \n",
       "113               12.64          2.0       132.0      105.0   74.4   174.4   \n",
       "85                16.24          2.0       125.0      106.5   69.1   184.8   \n",
       "152               27.50          2.4       168.0      104.9   69.3   185.9   \n",
       "\n",
       "     Curb weight  Fuel capacity  Fuel efficiency     Resale  \n",
       "59         3.857           21.1             19.0  17.525000  \n",
       "3          3.850           18.0             22.0  26.410625  \n",
       "113        2.559           12.5             29.0   7.750000  \n",
       "85         2.769           15.0             28.0   8.800000  \n",
       "152        3.208           17.9             25.0  18.061000  "
      ]
     },
     "execution_count": 41,
     "metadata": {},
     "output_type": "execute_result"
    }
   ],
   "source": [
    "df = pd.concat([Y_train, X_train], axis=1)\n",
    "df.head()"
   ]
  },
  {
   "cell_type": "code",
   "execution_count": 42,
   "id": "50f7a4ac",
   "metadata": {},
   "outputs": [
    {
     "data": {
      "text/html": [
       "<div>\n",
       "<style scoped>\n",
       "    .dataframe tbody tr th:only-of-type {\n",
       "        vertical-align: middle;\n",
       "    }\n",
       "\n",
       "    .dataframe tbody tr th {\n",
       "        vertical-align: top;\n",
       "    }\n",
       "\n",
       "    .dataframe thead th {\n",
       "        text-align: right;\n",
       "    }\n",
       "</style>\n",
       "<table border=\"1\" class=\"dataframe\">\n",
       "  <thead>\n",
       "    <tr style=\"text-align: right;\">\n",
       "      <th></th>\n",
       "      <th>Price in thousands</th>\n",
       "      <th>Engine size</th>\n",
       "      <th>Horsepower</th>\n",
       "      <th>Wheelbase</th>\n",
       "      <th>Width</th>\n",
       "      <th>Length</th>\n",
       "      <th>Curb weight</th>\n",
       "      <th>Fuel capacity</th>\n",
       "      <th>Fuel efficiency</th>\n",
       "      <th>Resale</th>\n",
       "    </tr>\n",
       "  </thead>\n",
       "  <tbody>\n",
       "    <tr>\n",
       "      <th>Price in thousands</th>\n",
       "      <td>1.000000</td>\n",
       "      <td>0.685318</td>\n",
       "      <td>0.863159</td>\n",
       "      <td>0.354456</td>\n",
       "      <td>0.399111</td>\n",
       "      <td>0.280473</td>\n",
       "      <td>0.665501</td>\n",
       "      <td>0.586666</td>\n",
       "      <td>-0.639801</td>\n",
       "      <td>0.796531</td>\n",
       "    </tr>\n",
       "    <tr>\n",
       "      <th>Engine size</th>\n",
       "      <td>0.685318</td>\n",
       "      <td>1.000000</td>\n",
       "      <td>0.853995</td>\n",
       "      <td>0.646645</td>\n",
       "      <td>0.748226</td>\n",
       "      <td>0.686312</td>\n",
       "      <td>0.841272</td>\n",
       "      <td>0.738217</td>\n",
       "      <td>-0.768990</td>\n",
       "      <td>0.521691</td>\n",
       "    </tr>\n",
       "    <tr>\n",
       "      <th>Horsepower</th>\n",
       "      <td>0.863159</td>\n",
       "      <td>0.853995</td>\n",
       "      <td>1.000000</td>\n",
       "      <td>0.526106</td>\n",
       "      <td>0.591380</td>\n",
       "      <td>0.516032</td>\n",
       "      <td>0.728509</td>\n",
       "      <td>0.653151</td>\n",
       "      <td>-0.690752</td>\n",
       "      <td>0.681591</td>\n",
       "    </tr>\n",
       "    <tr>\n",
       "      <th>Wheelbase</th>\n",
       "      <td>0.354456</td>\n",
       "      <td>0.646645</td>\n",
       "      <td>0.526106</td>\n",
       "      <td>1.000000</td>\n",
       "      <td>0.769064</td>\n",
       "      <td>0.847917</td>\n",
       "      <td>0.718730</td>\n",
       "      <td>0.718502</td>\n",
       "      <td>-0.588670</td>\n",
       "      <td>0.270131</td>\n",
       "    </tr>\n",
       "    <tr>\n",
       "      <th>Width</th>\n",
       "      <td>0.399111</td>\n",
       "      <td>0.748226</td>\n",
       "      <td>0.591380</td>\n",
       "      <td>0.769064</td>\n",
       "      <td>1.000000</td>\n",
       "      <td>0.747533</td>\n",
       "      <td>0.716050</td>\n",
       "      <td>0.644602</td>\n",
       "      <td>-0.625157</td>\n",
       "      <td>0.243570</td>\n",
       "    </tr>\n",
       "    <tr>\n",
       "      <th>Length</th>\n",
       "      <td>0.280473</td>\n",
       "      <td>0.686312</td>\n",
       "      <td>0.516032</td>\n",
       "      <td>0.847917</td>\n",
       "      <td>0.747533</td>\n",
       "      <td>1.000000</td>\n",
       "      <td>0.673194</td>\n",
       "      <td>0.650207</td>\n",
       "      <td>-0.497012</td>\n",
       "      <td>0.212345</td>\n",
       "    </tr>\n",
       "    <tr>\n",
       "      <th>Curb weight</th>\n",
       "      <td>0.665501</td>\n",
       "      <td>0.841272</td>\n",
       "      <td>0.728509</td>\n",
       "      <td>0.718730</td>\n",
       "      <td>0.716050</td>\n",
       "      <td>0.673194</td>\n",
       "      <td>1.000000</td>\n",
       "      <td>0.884869</td>\n",
       "      <td>-0.877579</td>\n",
       "      <td>0.561268</td>\n",
       "    </tr>\n",
       "    <tr>\n",
       "      <th>Fuel capacity</th>\n",
       "      <td>0.586666</td>\n",
       "      <td>0.738217</td>\n",
       "      <td>0.653151</td>\n",
       "      <td>0.718502</td>\n",
       "      <td>0.644602</td>\n",
       "      <td>0.650207</td>\n",
       "      <td>0.884869</td>\n",
       "      <td>1.000000</td>\n",
       "      <td>-0.820991</td>\n",
       "      <td>0.492448</td>\n",
       "    </tr>\n",
       "    <tr>\n",
       "      <th>Fuel efficiency</th>\n",
       "      <td>-0.639801</td>\n",
       "      <td>-0.768990</td>\n",
       "      <td>-0.690752</td>\n",
       "      <td>-0.588670</td>\n",
       "      <td>-0.625157</td>\n",
       "      <td>-0.497012</td>\n",
       "      <td>-0.877579</td>\n",
       "      <td>-0.820991</td>\n",
       "      <td>1.000000</td>\n",
       "      <td>-0.525690</td>\n",
       "    </tr>\n",
       "    <tr>\n",
       "      <th>Resale</th>\n",
       "      <td>0.796531</td>\n",
       "      <td>0.521691</td>\n",
       "      <td>0.681591</td>\n",
       "      <td>0.270131</td>\n",
       "      <td>0.243570</td>\n",
       "      <td>0.212345</td>\n",
       "      <td>0.561268</td>\n",
       "      <td>0.492448</td>\n",
       "      <td>-0.525690</td>\n",
       "      <td>1.000000</td>\n",
       "    </tr>\n",
       "  </tbody>\n",
       "</table>\n",
       "</div>"
      ],
      "text/plain": [
       "                    Price in thousands  Engine size  Horsepower  Wheelbase  \\\n",
       "Price in thousands            1.000000     0.685318    0.863159   0.354456   \n",
       "Engine size                   0.685318     1.000000    0.853995   0.646645   \n",
       "Horsepower                    0.863159     0.853995    1.000000   0.526106   \n",
       "Wheelbase                     0.354456     0.646645    0.526106   1.000000   \n",
       "Width                         0.399111     0.748226    0.591380   0.769064   \n",
       "Length                        0.280473     0.686312    0.516032   0.847917   \n",
       "Curb weight                   0.665501     0.841272    0.728509   0.718730   \n",
       "Fuel capacity                 0.586666     0.738217    0.653151   0.718502   \n",
       "Fuel efficiency              -0.639801    -0.768990   -0.690752  -0.588670   \n",
       "Resale                        0.796531     0.521691    0.681591   0.270131   \n",
       "\n",
       "                       Width    Length  Curb weight  Fuel capacity  \\\n",
       "Price in thousands  0.399111  0.280473     0.665501       0.586666   \n",
       "Engine size         0.748226  0.686312     0.841272       0.738217   \n",
       "Horsepower          0.591380  0.516032     0.728509       0.653151   \n",
       "Wheelbase           0.769064  0.847917     0.718730       0.718502   \n",
       "Width               1.000000  0.747533     0.716050       0.644602   \n",
       "Length              0.747533  1.000000     0.673194       0.650207   \n",
       "Curb weight         0.716050  0.673194     1.000000       0.884869   \n",
       "Fuel capacity       0.644602  0.650207     0.884869       1.000000   \n",
       "Fuel efficiency    -0.625157 -0.497012    -0.877579      -0.820991   \n",
       "Resale              0.243570  0.212345     0.561268       0.492448   \n",
       "\n",
       "                    Fuel efficiency    Resale  \n",
       "Price in thousands        -0.639801  0.796531  \n",
       "Engine size               -0.768990  0.521691  \n",
       "Horsepower                -0.690752  0.681591  \n",
       "Wheelbase                 -0.588670  0.270131  \n",
       "Width                     -0.625157  0.243570  \n",
       "Length                    -0.497012  0.212345  \n",
       "Curb weight               -0.877579  0.561268  \n",
       "Fuel capacity             -0.820991  0.492448  \n",
       "Fuel efficiency            1.000000 -0.525690  \n",
       "Resale                    -0.525690  1.000000  "
      ]
     },
     "execution_count": 42,
     "metadata": {},
     "output_type": "execute_result"
    }
   ],
   "source": [
    "df.corr()"
   ]
  },
  {
   "cell_type": "code",
   "execution_count": 43,
   "id": "893d4ff3",
   "metadata": {},
   "outputs": [
    {
     "data": {
      "text/plain": [
       "<AxesSubplot:>"
      ]
     },
     "execution_count": 43,
     "metadata": {},
     "output_type": "execute_result"
    },
    {
     "data": {
      "image/png": "[encoded data removed]",
      "text/plain": [
       "<Figure size 432x288 with 2 Axes>"
      ]
     },
     "metadata": {
      "needs_background": "light"
     },
     "output_type": "display_data"
    }
   ],
   "source": [
    "sns.heatmap(df.corr(),annot = True)"
   ]
  },
  {
   "cell_type": "code",
   "execution_count": 44,
   "id": "0fdac8ee",
   "metadata": {},
   "outputs": [
    {
     "data": {
      "text/plain": [
       "<AxesSubplot:title={'center':'Engine size vs Resale'}, xlabel='Horsepower', ylabel='Price in thousands'>"
      ]
     },
     "execution_count": 44,
     "metadata": {},
     "output_type": "execute_result"
    },
    {
     "data": {
      "image/png": "[encoded data removed]",
      "text/plain": [
       "<Figure size 432x288 with 1 Axes>"
      ]
     },
     "metadata": {
      "needs_background": "light"
     },
     "output_type": "display_data"
    }
   ],
   "source": [
    "df.plot.scatter(x = 'Horsepower', y = 'Price in thousands', title = 'Engine size vs Resale')"
   ]
  },
  {
   "cell_type": "markdown",
   "id": "2c53dbde",
   "metadata": {},
   "source": [
    "### Horsepower has 86% collinearity with price in thousands"
   ]
  },
  {
   "cell_type": "code",
   "execution_count": 45,
   "id": "da0ef790",
   "metadata": {},
   "outputs": [
    {
     "data": {
      "text/plain": [
       "array([[  1.8  , 140.   , 101.2  , ...,  13.2  ,  28.   ,  16.36 ],\n",
       "       [  3.2  , 225.   , 108.1  , ...,  17.2  ,  25.   ,  19.875],\n",
       "       [  3.2  , 225.   , 106.9  , ...,  17.2  ,  26.   ,  18.225],\n",
       "       ...,\n",
       "       [  2.4  , 168.   , 104.9  , ...,  17.9  ,  25.   ,  18.061],\n",
       "       [  2.3  , 236.   , 104.9  , ...,  18.5  ,  23.   ,  18.061],\n",
       "       [  2.9  , 201.   , 109.9  , ...,  21.1  ,  24.   ,  18.061]])"
      ]
     },
     "execution_count": 45,
     "metadata": {},
     "output_type": "execute_result"
    }
   ],
   "source": [
    "X.values"
   ]
  },
  {
   "cell_type": "code",
   "execution_count": 46,
   "id": "e623100e",
   "metadata": {},
   "outputs": [
    {
     "data": {
      "text/plain": [
       "9"
      ]
     },
     "execution_count": 46,
     "metadata": {},
     "output_type": "execute_result"
    }
   ],
   "source": [
    "X.shape[1]"
   ]
  },
  {
   "cell_type": "code",
   "execution_count": 47,
   "id": "6308e75f",
   "metadata": {},
   "outputs": [
    {
     "data": {
      "text/plain": [
       "Index(['Engine size', 'Horsepower', 'Wheelbase', 'Width', 'Length',\n",
       "       'Curb weight', 'Fuel capacity', 'Fuel efficiency', 'Resale'],\n",
       "      dtype='object')"
      ]
     },
     "execution_count": 47,
     "metadata": {},
     "output_type": "execute_result"
    }
   ],
   "source": [
    "X.columns"
   ]
  },
  {
   "cell_type": "code",
   "execution_count": 48,
   "id": "ce30390a",
   "metadata": {},
   "outputs": [
    {
     "data": {
      "text/plain": [
       "Engine size          73.154110\n",
       "Horsepower           67.852012\n",
       "Wheelbase          1256.093315\n",
       "Width               881.417728\n",
       "Length             1082.924388\n",
       "Curb weight         283.221581\n",
       "Fuel capacity       135.531021\n",
       "Fuel efficiency     138.604270\n",
       "Resale               23.117922\n",
       "dtype: float64"
      ]
     },
     "execution_count": 48,
     "metadata": {},
     "output_type": "execute_result"
    }
   ],
   "source": [
    "X=df.drop(['Price in thousands'],axis=1)\n",
    "series_before = pd.Series([variance_inflation_factor(X.values, i) \n",
    "                           for i in range(X.shape[1])],  \n",
    "                          index=X.columns)  \n",
    "series_before"
   ]
  },
  {
   "cell_type": "code",
   "execution_count": 49,
   "id": "c2ef9964",
   "metadata": {},
   "outputs": [
    {
     "data": {
      "text/plain": [
       "Engine size        4.960796\n",
       "Fuel efficiency    4.960796\n",
       "dtype: float64"
      ]
     },
     "execution_count": 49,
     "metadata": {},
     "output_type": "execute_result"
    }
   ],
   "source": [
    "X1=df.loc[:,['Engine size', 'Fuel efficiency']]\n",
    "series_before = pd.Series([variance_inflation_factor(X1.values, i) \n",
    "                           for i in range(X1.shape[1])], \n",
    "                          index=X1.columns)\n",
    "series_before"
   ]
  },
  {
   "cell_type": "code",
   "execution_count": 50,
   "id": "cc6621f8",
   "metadata": {},
   "outputs": [],
   "source": [
    " df.rename(columns = {'Fuel efficiency':'fuel_efficiency','Engine size':'engine_size','Price in thousands':'price_in_thousands'}, inplace = True)"
   ]
  },
  {
   "cell_type": "code",
   "execution_count": 51,
   "id": "9fa111a2",
   "metadata": {},
   "outputs": [
    {
     "data": {
      "text/html": [
       "<table class=\"simpletable\">\n",
       "<caption>OLS Regression Results</caption>\n",
       "<tr>\n",
       "  <th>Dep. Variable:</th>    <td>price_in_thousands</td> <th>  R-squared:         </th> <td>   0.501</td>\n",
       "</tr>\n",
       "<tr>\n",
       "  <th>Model:</th>                    <td>OLS</td>        <th>  Adj. R-squared:    </th> <td>   0.491</td>\n",
       "</tr>\n",
       "<tr>\n",
       "  <th>Method:</th>              <td>Least Squares</td>   <th>  F-statistic:       </th> <td>   53.17</td>\n",
       "</tr>\n",
       "<tr>\n",
       "  <th>Date:</th>              <td>Wed, 01 Jun 2022</td>  <th>  Prob (F-statistic):</th> <td>1.02e-16</td>\n",
       "</tr>\n",
       "<tr>\n",
       "  <th>Time:</th>                  <td>10:13:19</td>      <th>  Log-Likelihood:    </th> <td> -383.10</td>\n",
       "</tr>\n",
       "<tr>\n",
       "  <th>No. Observations:</th>       <td>   109</td>       <th>  AIC:               </th> <td>   772.2</td>\n",
       "</tr>\n",
       "<tr>\n",
       "  <th>Df Residuals:</th>           <td>   106</td>       <th>  BIC:               </th> <td>   780.3</td>\n",
       "</tr>\n",
       "<tr>\n",
       "  <th>Df Model:</th>               <td>     2</td>       <th>                     </th>     <td> </td>   \n",
       "</tr>\n",
       "<tr>\n",
       "  <th>Covariance Type:</th>       <td>nonrobust</td>     <th>                     </th>     <td> </td>   \n",
       "</tr>\n",
       "</table>\n",
       "<table class=\"simpletable\">\n",
       "<tr>\n",
       "         <td></td>            <th>coef</th>     <th>std err</th>      <th>t</th>      <th>P>|t|</th>  <th>[0.025</th>    <th>0.975]</th>  \n",
       "</tr>\n",
       "<tr>\n",
       "  <th>Intercept</th>       <td>   29.5489</td> <td>   10.488</td> <td>    2.818</td> <td> 0.006</td> <td>    8.756</td> <td>   50.342</td>\n",
       "</tr>\n",
       "<tr>\n",
       "  <th>engine_size</th>     <td>    5.3553</td> <td>    1.215</td> <td>    4.407</td> <td> 0.000</td> <td>    2.946</td> <td>    7.765</td>\n",
       "</tr>\n",
       "<tr>\n",
       "  <th>fuel_efficiency</th> <td>   -0.7824</td> <td>    0.304</td> <td>   -2.571</td> <td> 0.012</td> <td>   -1.386</td> <td>   -0.179</td>\n",
       "</tr>\n",
       "</table>\n",
       "<table class=\"simpletable\">\n",
       "<tr>\n",
       "  <th>Omnibus:</th>       <td> 3.779</td> <th>  Durbin-Watson:     </th> <td>   2.201</td>\n",
       "</tr>\n",
       "<tr>\n",
       "  <th>Prob(Omnibus):</th> <td> 0.151</td> <th>  Jarque-Bera (JB):  </th> <td>   3.180</td>\n",
       "</tr>\n",
       "<tr>\n",
       "  <th>Skew:</th>          <td> 0.392</td> <th>  Prob(JB):          </th> <td>   0.204</td>\n",
       "</tr>\n",
       "<tr>\n",
       "  <th>Kurtosis:</th>      <td> 3.290</td> <th>  Cond. No.          </th> <td>    331.</td>\n",
       "</tr>\n",
       "</table><br/><br/>Notes:<br/>[1] Standard Errors assume that the covariance matrix of the errors is correctly specified."
      ],
      "text/plain": [
       "<class 'statsmodels.iolib.summary.Summary'>\n",
       "\"\"\"\n",
       "                            OLS Regression Results                            \n",
       "==============================================================================\n",
       "Dep. Variable:     price_in_thousands   R-squared:                       0.501\n",
       "Model:                            OLS   Adj. R-squared:                  0.491\n",
       "Method:                 Least Squares   F-statistic:                     53.17\n",
       "Date:                Wed, 01 Jun 2022   Prob (F-statistic):           1.02e-16\n",
       "Time:                        10:13:19   Log-Likelihood:                -383.10\n",
       "No. Observations:                 109   AIC:                             772.2\n",
       "Df Residuals:                     106   BIC:                             780.3\n",
       "Df Model:                           2                                         \n",
       "Covariance Type:            nonrobust                                         \n",
       "===================================================================================\n",
       "                      coef    std err          t      P>|t|      [0.025      0.975]\n",
       "-----------------------------------------------------------------------------------\n",
       "Intercept          29.5489     10.488      2.818      0.006       8.756      50.342\n",
       "engine_size         5.3553      1.215      4.407      0.000       2.946       7.765\n",
       "fuel_efficiency    -0.7824      0.304     -2.571      0.012      -1.386      -0.179\n",
       "==============================================================================\n",
       "Omnibus:                        3.779   Durbin-Watson:                   2.201\n",
       "Prob(Omnibus):                  0.151   Jarque-Bera (JB):                3.180\n",
       "Skew:                           0.392   Prob(JB):                        0.204\n",
       "Kurtosis:                       3.290   Cond. No.                         331.\n",
       "==============================================================================\n",
       "\n",
       "Notes:\n",
       "[1] Standard Errors assume that the covariance matrix of the errors is correctly specified.\n",
       "\"\"\""
      ]
     },
     "execution_count": 51,
     "metadata": {},
     "output_type": "execute_result"
    }
   ],
   "source": [
    "import statsmodels.formula.api as smf\n",
    "model = smf.ols('price_in_thousands ~ engine_size + fuel_efficiency',data=df).fit()\n",
    "model.summary() "
   ]
  },
  {
   "cell_type": "code",
   "execution_count": 52,
   "id": "f922bda9",
   "metadata": {},
   "outputs": [
    {
     "data": {
      "text/html": [
       "<div>\n",
       "<style scoped>\n",
       "    .dataframe tbody tr th:only-of-type {\n",
       "        vertical-align: middle;\n",
       "    }\n",
       "\n",
       "    .dataframe tbody tr th {\n",
       "        vertical-align: top;\n",
       "    }\n",
       "\n",
       "    .dataframe thead th {\n",
       "        text-align: right;\n",
       "    }\n",
       "</style>\n",
       "<table border=\"1\" class=\"dataframe\">\n",
       "  <thead>\n",
       "    <tr style=\"text-align: right;\">\n",
       "      <th></th>\n",
       "      <th>price_in_thousands</th>\n",
       "      <th>engine_size</th>\n",
       "      <th>Horsepower</th>\n",
       "      <th>Wheelbase</th>\n",
       "      <th>Width</th>\n",
       "      <th>Length</th>\n",
       "      <th>Curb weight</th>\n",
       "      <th>Fuel capacity</th>\n",
       "      <th>fuel_efficiency</th>\n",
       "      <th>Resale</th>\n",
       "    </tr>\n",
       "  </thead>\n",
       "  <tbody>\n",
       "    <tr>\n",
       "      <th>59</th>\n",
       "      <td>26.60</td>\n",
       "      <td>3.2</td>\n",
       "      <td>205.0</td>\n",
       "      <td>106.4</td>\n",
       "      <td>70.4</td>\n",
       "      <td>178.2</td>\n",
       "      <td>3.857</td>\n",
       "      <td>21.1</td>\n",
       "      <td>19.0</td>\n",
       "      <td>17.525000</td>\n",
       "    </tr>\n",
       "    <tr>\n",
       "      <th>3</th>\n",
       "      <td>42.00</td>\n",
       "      <td>3.5</td>\n",
       "      <td>210.0</td>\n",
       "      <td>114.6</td>\n",
       "      <td>71.4</td>\n",
       "      <td>196.6</td>\n",
       "      <td>3.850</td>\n",
       "      <td>18.0</td>\n",
       "      <td>22.0</td>\n",
       "      <td>26.410625</td>\n",
       "    </tr>\n",
       "    <tr>\n",
       "      <th>113</th>\n",
       "      <td>12.64</td>\n",
       "      <td>2.0</td>\n",
       "      <td>132.0</td>\n",
       "      <td>105.0</td>\n",
       "      <td>74.4</td>\n",
       "      <td>174.4</td>\n",
       "      <td>2.559</td>\n",
       "      <td>12.5</td>\n",
       "      <td>29.0</td>\n",
       "      <td>7.750000</td>\n",
       "    </tr>\n",
       "    <tr>\n",
       "      <th>85</th>\n",
       "      <td>16.24</td>\n",
       "      <td>2.0</td>\n",
       "      <td>125.0</td>\n",
       "      <td>106.5</td>\n",
       "      <td>69.1</td>\n",
       "      <td>184.8</td>\n",
       "      <td>2.769</td>\n",
       "      <td>15.0</td>\n",
       "      <td>28.0</td>\n",
       "      <td>8.800000</td>\n",
       "    </tr>\n",
       "    <tr>\n",
       "      <th>152</th>\n",
       "      <td>27.50</td>\n",
       "      <td>2.4</td>\n",
       "      <td>168.0</td>\n",
       "      <td>104.9</td>\n",
       "      <td>69.3</td>\n",
       "      <td>185.9</td>\n",
       "      <td>3.208</td>\n",
       "      <td>17.9</td>\n",
       "      <td>25.0</td>\n",
       "      <td>18.061000</td>\n",
       "    </tr>\n",
       "  </tbody>\n",
       "</table>\n",
       "</div>"
      ],
      "text/plain": [
       "     price_in_thousands  engine_size  Horsepower  Wheelbase  Width  Length  \\\n",
       "59                26.60          3.2       205.0      106.4   70.4   178.2   \n",
       "3                 42.00          3.5       210.0      114.6   71.4   196.6   \n",
       "113               12.64          2.0       132.0      105.0   74.4   174.4   \n",
       "85                16.24          2.0       125.0      106.5   69.1   184.8   \n",
       "152               27.50          2.4       168.0      104.9   69.3   185.9   \n",
       "\n",
       "     Curb weight  Fuel capacity  fuel_efficiency     Resale  \n",
       "59         3.857           21.1             19.0  17.525000  \n",
       "3          3.850           18.0             22.0  26.410625  \n",
       "113        2.559           12.5             29.0   7.750000  \n",
       "85         2.769           15.0             28.0   8.800000  \n",
       "152        3.208           17.9             25.0  18.061000  "
      ]
     },
     "execution_count": 52,
     "metadata": {},
     "output_type": "execute_result"
    }
   ],
   "source": [
    "df.head()"
   ]
  },
  {
   "cell_type": "code",
   "execution_count": 53,
   "id": "38acd842",
   "metadata": {},
   "outputs": [
    {
     "data": {
      "text/html": [
       "<div>\n",
       "<style scoped>\n",
       "    .dataframe tbody tr th:only-of-type {\n",
       "        vertical-align: middle;\n",
       "    }\n",
       "\n",
       "    .dataframe tbody tr th {\n",
       "        vertical-align: top;\n",
       "    }\n",
       "\n",
       "    .dataframe thead th {\n",
       "        text-align: right;\n",
       "    }\n",
       "</style>\n",
       "<table border=\"1\" class=\"dataframe\">\n",
       "  <thead>\n",
       "    <tr style=\"text-align: right;\">\n",
       "      <th></th>\n",
       "      <th>price_in_thousands</th>\n",
       "      <th>engine_size</th>\n",
       "      <th>Horsepower</th>\n",
       "      <th>Wheelbase</th>\n",
       "      <th>Width</th>\n",
       "      <th>Length</th>\n",
       "      <th>Curb weight</th>\n",
       "      <th>Fuel capacity</th>\n",
       "      <th>fuel_efficiency</th>\n",
       "      <th>Resale</th>\n",
       "      <th>fitted_value</th>\n",
       "      <th>residual</th>\n",
       "    </tr>\n",
       "  </thead>\n",
       "  <tbody>\n",
       "    <tr>\n",
       "      <th>59</th>\n",
       "      <td>26.60</td>\n",
       "      <td>3.2</td>\n",
       "      <td>205.0</td>\n",
       "      <td>106.4</td>\n",
       "      <td>70.4</td>\n",
       "      <td>178.2</td>\n",
       "      <td>3.857</td>\n",
       "      <td>21.1</td>\n",
       "      <td>19.0</td>\n",
       "      <td>17.525000</td>\n",
       "      <td>31.820169</td>\n",
       "      <td>-5.220169</td>\n",
       "    </tr>\n",
       "    <tr>\n",
       "      <th>3</th>\n",
       "      <td>42.00</td>\n",
       "      <td>3.5</td>\n",
       "      <td>210.0</td>\n",
       "      <td>114.6</td>\n",
       "      <td>71.4</td>\n",
       "      <td>196.6</td>\n",
       "      <td>3.850</td>\n",
       "      <td>18.0</td>\n",
       "      <td>22.0</td>\n",
       "      <td>26.410625</td>\n",
       "      <td>31.079548</td>\n",
       "      <td>10.920452</td>\n",
       "    </tr>\n",
       "    <tr>\n",
       "      <th>113</th>\n",
       "      <td>12.64</td>\n",
       "      <td>2.0</td>\n",
       "      <td>132.0</td>\n",
       "      <td>105.0</td>\n",
       "      <td>74.4</td>\n",
       "      <td>174.4</td>\n",
       "      <td>2.559</td>\n",
       "      <td>12.5</td>\n",
       "      <td>29.0</td>\n",
       "      <td>7.750000</td>\n",
       "      <td>17.569794</td>\n",
       "      <td>-4.929794</td>\n",
       "    </tr>\n",
       "    <tr>\n",
       "      <th>85</th>\n",
       "      <td>16.24</td>\n",
       "      <td>2.0</td>\n",
       "      <td>125.0</td>\n",
       "      <td>106.5</td>\n",
       "      <td>69.1</td>\n",
       "      <td>184.8</td>\n",
       "      <td>2.769</td>\n",
       "      <td>15.0</td>\n",
       "      <td>28.0</td>\n",
       "      <td>8.800000</td>\n",
       "      <td>18.352197</td>\n",
       "      <td>-2.112197</td>\n",
       "    </tr>\n",
       "    <tr>\n",
       "      <th>152</th>\n",
       "      <td>27.50</td>\n",
       "      <td>2.4</td>\n",
       "      <td>168.0</td>\n",
       "      <td>104.9</td>\n",
       "      <td>69.3</td>\n",
       "      <td>185.9</td>\n",
       "      <td>3.208</td>\n",
       "      <td>17.9</td>\n",
       "      <td>25.0</td>\n",
       "      <td>18.061000</td>\n",
       "      <td>22.841521</td>\n",
       "      <td>4.658479</td>\n",
       "    </tr>\n",
       "  </tbody>\n",
       "</table>\n",
       "</div>"
      ],
      "text/plain": [
       "     price_in_thousands  engine_size  Horsepower  Wheelbase  Width  Length  \\\n",
       "59                26.60          3.2       205.0      106.4   70.4   178.2   \n",
       "3                 42.00          3.5       210.0      114.6   71.4   196.6   \n",
       "113               12.64          2.0       132.0      105.0   74.4   174.4   \n",
       "85                16.24          2.0       125.0      106.5   69.1   184.8   \n",
       "152               27.50          2.4       168.0      104.9   69.3   185.9   \n",
       "\n",
       "     Curb weight  Fuel capacity  fuel_efficiency     Resale  fitted_value  \\\n",
       "59         3.857           21.1             19.0  17.525000     31.820169   \n",
       "3          3.850           18.0             22.0  26.410625     31.079548   \n",
       "113        2.559           12.5             29.0   7.750000     17.569794   \n",
       "85         2.769           15.0             28.0   8.800000     18.352197   \n",
       "152        3.208           17.9             25.0  18.061000     22.841521   \n",
       "\n",
       "      residual  \n",
       "59   -5.220169  \n",
       "3    10.920452  \n",
       "113  -4.929794  \n",
       "85   -2.112197  \n",
       "152   4.658479  "
      ]
     },
     "execution_count": 53,
     "metadata": {},
     "output_type": "execute_result"
    }
   ],
   "source": [
    "df['fitted_value']=model.fittedvalues #Predicted Value\n",
    "df['residual']=model.resid  #Error\n",
    "df.head()"
   ]
  },
  {
   "cell_type": "code",
   "execution_count": 54,
   "id": "08325d6a",
   "metadata": {},
   "outputs": [
    {
     "data": {
      "text/plain": [
       "<AxesSubplot:title={'center':'distance_to_the_nearest_MRT_station vs house_price'}, xlabel='Horsepower', ylabel='price_in_thousands'>"
      ]
     },
     "execution_count": 54,
     "metadata": {},
     "output_type": "execute_result"
    },
    {
     "data": {
      "image/png": "[encoded data removed]",
      "text/plain": [
       "<Figure size 432x288 with 1 Axes>"
      ]
     },
     "metadata": {
      "needs_background": "light"
     },
     "output_type": "display_data"
    }
   ],
   "source": [
    "df.plot.scatter(x='Horsepower', y='price_in_thousands', title='distance_to_the_nearest_MRT_station vs house_price')"
   ]
  },
  {
   "cell_type": "code",
   "execution_count": 55,
   "id": "c457c50b",
   "metadata": {},
   "outputs": [
    {
     "data": {
      "text/plain": [
       "<AxesSubplot:xlabel='fitted_value', ylabel='residual'>"
      ]
     },
     "execution_count": 55,
     "metadata": {},
     "output_type": "execute_result"
    },
    {
     "data": {
      "image/png": "[encoded data removed]",
      "text/plain": [
       "<Figure size 432x288 with 1 Axes>"
      ]
     },
     "metadata": {
      "needs_background": "light"
     },
     "output_type": "display_data"
    }
   ],
   "source": [
    "sns.scatterplot(x='fitted_value', y='residual',data=df)"
   ]
  },
  {
   "cell_type": "code",
   "execution_count": 56,
   "id": "66cb97bd",
   "metadata": {},
   "outputs": [
    {
     "name": "stderr",
     "output_type": "stream",
     "text": [
      "C:\\Users\\swapn\\anaconda3\\lib\\site-packages\\statsmodels\\graphics\\gofplots.py:993: UserWarning: marker is redundantly defined by the 'marker' keyword argument and the fmt string \"bo\" (-> marker='o'). The keyword argument will take precedence.\n",
      "  ax.plot(x, y, fmt, **plot_style)\n"
     ]
    },
    {
     "data": {
      "image/png": "[encoded data removed]",
      "text/plain": [
       "<Figure size 432x288 with 1 Axes>"
      ]
     },
     "metadata": {
      "needs_background": "light"
     },
     "output_type": "display_data"
    }
   ],
   "source": [
    "import statsmodels.api as sm\n",
    "fig = sm.qqplot(df['residual'], fit=True, line='s') # s indicate standardized line\n",
    "plt.show()"
   ]
  },
  {
   "cell_type": "code",
   "execution_count": 57,
   "id": "5f036c74",
   "metadata": {},
   "outputs": [
    {
     "data": {
      "text/plain": [
       "<AxesSubplot:ylabel='Frequency'>"
      ]
     },
     "execution_count": 57,
     "metadata": {},
     "output_type": "execute_result"
    },
    {
     "data": {
      "image/png": "[encoded data removed]",
      "text/plain": [
       "<Figure size 432x288 with 1 Axes>"
      ]
     },
     "metadata": {
      "needs_background": "light"
     },
     "output_type": "display_data"
    }
   ],
   "source": [
    "df['residual'].plot.hist()"
   ]
  },
  {
   "cell_type": "code",
   "execution_count": 58,
   "id": "02ef26f1",
   "metadata": {},
   "outputs": [
    {
     "data": {
      "text/html": [
       "<div>\n",
       "<style scoped>\n",
       "    .dataframe tbody tr th:only-of-type {\n",
       "        vertical-align: middle;\n",
       "    }\n",
       "\n",
       "    .dataframe tbody tr th {\n",
       "        vertical-align: top;\n",
       "    }\n",
       "\n",
       "    .dataframe thead th {\n",
       "        text-align: right;\n",
       "    }\n",
       "</style>\n",
       "<table border=\"1\" class=\"dataframe\">\n",
       "  <thead>\n",
       "    <tr style=\"text-align: right;\">\n",
       "      <th></th>\n",
       "      <th>Engine size</th>\n",
       "      <th>Horsepower</th>\n",
       "      <th>Wheelbase</th>\n",
       "      <th>Width</th>\n",
       "      <th>Length</th>\n",
       "      <th>Curb weight</th>\n",
       "      <th>Fuel capacity</th>\n",
       "      <th>Fuel efficiency</th>\n",
       "      <th>Resale</th>\n",
       "      <th>Price in thousands</th>\n",
       "    </tr>\n",
       "  </thead>\n",
       "  <tbody>\n",
       "    <tr>\n",
       "      <th>18</th>\n",
       "      <td>5.4875</td>\n",
       "      <td>255.0</td>\n",
       "      <td>117.5</td>\n",
       "      <td>77.0</td>\n",
       "      <td>201.2</td>\n",
       "      <td>5.09425</td>\n",
       "      <td>25.2375</td>\n",
       "      <td>15.0</td>\n",
       "      <td>18.061000</td>\n",
       "      <td>46.225</td>\n",
       "    </tr>\n",
       "    <tr>\n",
       "      <th>154</th>\n",
       "      <td>2.3000</td>\n",
       "      <td>236.0</td>\n",
       "      <td>104.9</td>\n",
       "      <td>71.5</td>\n",
       "      <td>185.7</td>\n",
       "      <td>3.60100</td>\n",
       "      <td>18.5000</td>\n",
       "      <td>23.0</td>\n",
       "      <td>18.061000</td>\n",
       "      <td>45.500</td>\n",
       "    </tr>\n",
       "    <tr>\n",
       "      <th>30</th>\n",
       "      <td>2.7000</td>\n",
       "      <td>200.0</td>\n",
       "      <td>113.0</td>\n",
       "      <td>74.4</td>\n",
       "      <td>209.1</td>\n",
       "      <td>3.45200</td>\n",
       "      <td>17.0000</td>\n",
       "      <td>26.0</td>\n",
       "      <td>13.725000</td>\n",
       "      <td>22.245</td>\n",
       "    </tr>\n",
       "    <tr>\n",
       "      <th>69</th>\n",
       "      <td>3.0000</td>\n",
       "      <td>210.0</td>\n",
       "      <td>105.1</td>\n",
       "      <td>70.5</td>\n",
       "      <td>190.2</td>\n",
       "      <td>3.37300</td>\n",
       "      <td>18.5000</td>\n",
       "      <td>23.0</td>\n",
       "      <td>26.410625</td>\n",
       "      <td>31.505</td>\n",
       "    </tr>\n",
       "    <tr>\n",
       "      <th>118</th>\n",
       "      <td>3.4000</td>\n",
       "      <td>175.0</td>\n",
       "      <td>107.0</td>\n",
       "      <td>70.4</td>\n",
       "      <td>186.3</td>\n",
       "      <td>3.09100</td>\n",
       "      <td>15.2000</td>\n",
       "      <td>25.0</td>\n",
       "      <td>10.290000</td>\n",
       "      <td>19.720</td>\n",
       "    </tr>\n",
       "  </tbody>\n",
       "</table>\n",
       "</div>"
      ],
      "text/plain": [
       "     Engine size  Horsepower  Wheelbase  Width  Length  Curb weight  \\\n",
       "18        5.4875       255.0      117.5   77.0   201.2      5.09425   \n",
       "154       2.3000       236.0      104.9   71.5   185.7      3.60100   \n",
       "30        2.7000       200.0      113.0   74.4   209.1      3.45200   \n",
       "69        3.0000       210.0      105.1   70.5   190.2      3.37300   \n",
       "118       3.4000       175.0      107.0   70.4   186.3      3.09100   \n",
       "\n",
       "     Fuel capacity  Fuel efficiency     Resale  Price in thousands  \n",
       "18         25.2375             15.0  18.061000              46.225  \n",
       "154        18.5000             23.0  18.061000              45.500  \n",
       "30         17.0000             26.0  13.725000              22.245  \n",
       "69         18.5000             23.0  26.410625              31.505  \n",
       "118        15.2000             25.0  10.290000              19.720  "
      ]
     },
     "execution_count": 58,
     "metadata": {},
     "output_type": "execute_result"
    }
   ],
   "source": [
    "df_test=pd.concat([X_test,Y_test],axis=1)\n",
    "\n",
    "df_test.head()"
   ]
  },
  {
   "cell_type": "code",
   "execution_count": 59,
   "id": "7bb9dc42",
   "metadata": {},
   "outputs": [
    {
     "ename": "PatsyError",
     "evalue": "predict requires that you use a DataFrame when predicting from a model\nthat was created using the formula api.\n\nThe original error message returned by patsy is:\nError evaluating factor: NameError: name 'engine_size' is not defined\n    price_in_thousands ~ engine_size + fuel_efficiency\n                         ^^^^^^^^^^^",
     "output_type": "error",
     "traceback": [
      "\u001b[1;31m---------------------------------------------------------------------------\u001b[0m",
      "\u001b[1;31mNameError\u001b[0m                                 Traceback (most recent call last)",
      "\u001b[1;32m~\\anaconda3\\lib\\site-packages\\patsy\\compat.py\u001b[0m in \u001b[0;36mcall_and_wrap_exc\u001b[1;34m(msg, origin, f, *args, **kwargs)\u001b[0m\n\u001b[0;32m     35\u001b[0m     \u001b[1;32mtry\u001b[0m\u001b[1;33m:\u001b[0m\u001b[1;33m\u001b[0m\u001b[1;33m\u001b[0m\u001b[0m\n\u001b[1;32m---> 36\u001b[1;33m         \u001b[1;32mreturn\u001b[0m \u001b[0mf\u001b[0m\u001b[1;33m(\u001b[0m\u001b[1;33m*\u001b[0m\u001b[0margs\u001b[0m\u001b[1;33m,\u001b[0m \u001b[1;33m**\u001b[0m\u001b[0mkwargs\u001b[0m\u001b[1;33m)\u001b[0m\u001b[1;33m\u001b[0m\u001b[1;33m\u001b[0m\u001b[0m\n\u001b[0m\u001b[0;32m     37\u001b[0m     \u001b[1;32mexcept\u001b[0m \u001b[0mException\u001b[0m \u001b[1;32mas\u001b[0m \u001b[0me\u001b[0m\u001b[1;33m:\u001b[0m\u001b[1;33m\u001b[0m\u001b[1;33m\u001b[0m\u001b[0m\n",
      "\u001b[1;32m~\\anaconda3\\lib\\site-packages\\patsy\\eval.py\u001b[0m in \u001b[0;36meval\u001b[1;34m(self, expr, source_name, inner_namespace)\u001b[0m\n\u001b[0;32m    164\u001b[0m         \u001b[0mcode\u001b[0m \u001b[1;33m=\u001b[0m \u001b[0mcompile\u001b[0m\u001b[1;33m(\u001b[0m\u001b[0mexpr\u001b[0m\u001b[1;33m,\u001b[0m \u001b[0msource_name\u001b[0m\u001b[1;33m,\u001b[0m \u001b[1;34m\"eval\"\u001b[0m\u001b[1;33m,\u001b[0m \u001b[0mself\u001b[0m\u001b[1;33m.\u001b[0m\u001b[0mflags\u001b[0m\u001b[1;33m,\u001b[0m \u001b[1;32mFalse\u001b[0m\u001b[1;33m)\u001b[0m\u001b[1;33m\u001b[0m\u001b[1;33m\u001b[0m\u001b[0m\n\u001b[1;32m--> 165\u001b[1;33m         return eval(code, {}, VarLookupDict([inner_namespace]\n\u001b[0m\u001b[0;32m    166\u001b[0m                                             + self._namespaces))\n",
      "\u001b[1;32m<string>\u001b[0m in \u001b[0;36m<module>\u001b[1;34m\u001b[0m\n",
      "\u001b[1;31mNameError\u001b[0m: name 'engine_size' is not defined",
      "\nThe above exception was the direct cause of the following exception:\n",
      "\u001b[1;31mPatsyError\u001b[0m                                Traceback (most recent call last)",
      "\u001b[1;32m~\\anaconda3\\lib\\site-packages\\statsmodels\\base\\model.py\u001b[0m in \u001b[0;36mpredict\u001b[1;34m(self, exog, transform, *args, **kwargs)\u001b[0m\n\u001b[0;32m   1076\u001b[0m             \u001b[1;32mtry\u001b[0m\u001b[1;33m:\u001b[0m\u001b[1;33m\u001b[0m\u001b[1;33m\u001b[0m\u001b[0m\n\u001b[1;32m-> 1077\u001b[1;33m                 \u001b[0mexog\u001b[0m \u001b[1;33m=\u001b[0m \u001b[0mdmatrix\u001b[0m\u001b[1;33m(\u001b[0m\u001b[0mdesign_info\u001b[0m\u001b[1;33m,\u001b[0m \u001b[0mexog\u001b[0m\u001b[1;33m,\u001b[0m \u001b[0mreturn_type\u001b[0m\u001b[1;33m=\u001b[0m\u001b[1;34m\"dataframe\"\u001b[0m\u001b[1;33m)\u001b[0m\u001b[1;33m\u001b[0m\u001b[1;33m\u001b[0m\u001b[0m\n\u001b[0m\u001b[0;32m   1078\u001b[0m             \u001b[1;32mexcept\u001b[0m \u001b[0mException\u001b[0m \u001b[1;32mas\u001b[0m \u001b[0mexc\u001b[0m\u001b[1;33m:\u001b[0m\u001b[1;33m\u001b[0m\u001b[1;33m\u001b[0m\u001b[0m\n",
      "\u001b[1;32m~\\anaconda3\\lib\\site-packages\\patsy\\highlevel.py\u001b[0m in \u001b[0;36mdmatrix\u001b[1;34m(formula_like, data, eval_env, NA_action, return_type)\u001b[0m\n\u001b[0;32m    289\u001b[0m     \u001b[0meval_env\u001b[0m \u001b[1;33m=\u001b[0m \u001b[0mEvalEnvironment\u001b[0m\u001b[1;33m.\u001b[0m\u001b[0mcapture\u001b[0m\u001b[1;33m(\u001b[0m\u001b[0meval_env\u001b[0m\u001b[1;33m,\u001b[0m \u001b[0mreference\u001b[0m\u001b[1;33m=\u001b[0m\u001b[1;36m1\u001b[0m\u001b[1;33m)\u001b[0m\u001b[1;33m\u001b[0m\u001b[1;33m\u001b[0m\u001b[0m\n\u001b[1;32m--> 290\u001b[1;33m     (lhs, rhs) = _do_highlevel_design(formula_like, data, eval_env,\n\u001b[0m\u001b[0;32m    291\u001b[0m                                       NA_action, return_type)\n",
      "\u001b[1;32m~\\anaconda3\\lib\\site-packages\\patsy\\highlevel.py\u001b[0m in \u001b[0;36m_do_highlevel_design\u001b[1;34m(formula_like, data, eval_env, NA_action, return_type)\u001b[0m\n\u001b[0;32m    166\u001b[0m     \u001b[1;32mif\u001b[0m \u001b[0mdesign_infos\u001b[0m \u001b[1;32mis\u001b[0m \u001b[1;32mnot\u001b[0m \u001b[1;32mNone\u001b[0m\u001b[1;33m:\u001b[0m\u001b[1;33m\u001b[0m\u001b[1;33m\u001b[0m\u001b[0m\n\u001b[1;32m--> 167\u001b[1;33m         return build_design_matrices(design_infos, data,\n\u001b[0m\u001b[0;32m    168\u001b[0m                                      \u001b[0mNA_action\u001b[0m\u001b[1;33m=\u001b[0m\u001b[0mNA_action\u001b[0m\u001b[1;33m,\u001b[0m\u001b[1;33m\u001b[0m\u001b[1;33m\u001b[0m\u001b[0m\n",
      "\u001b[1;32m~\\anaconda3\\lib\\site-packages\\patsy\\build.py\u001b[0m in \u001b[0;36mbuild_design_matrices\u001b[1;34m(design_infos, data, NA_action, return_type, dtype)\u001b[0m\n\u001b[0;32m    887\u001b[0m             \u001b[1;32mif\u001b[0m \u001b[0mfactor_info\u001b[0m \u001b[1;32mnot\u001b[0m \u001b[1;32min\u001b[0m \u001b[0mfactor_info_to_values\u001b[0m\u001b[1;33m:\u001b[0m\u001b[1;33m\u001b[0m\u001b[1;33m\u001b[0m\u001b[0m\n\u001b[1;32m--> 888\u001b[1;33m                 \u001b[0mvalue\u001b[0m\u001b[1;33m,\u001b[0m \u001b[0mis_NA\u001b[0m \u001b[1;33m=\u001b[0m \u001b[0m_eval_factor\u001b[0m\u001b[1;33m(\u001b[0m\u001b[0mfactor_info\u001b[0m\u001b[1;33m,\u001b[0m \u001b[0mdata\u001b[0m\u001b[1;33m,\u001b[0m \u001b[0mNA_action\u001b[0m\u001b[1;33m)\u001b[0m\u001b[1;33m\u001b[0m\u001b[1;33m\u001b[0m\u001b[0m\n\u001b[0m\u001b[0;32m    889\u001b[0m                 \u001b[0mfactor_info_to_isNAs\u001b[0m\u001b[1;33m[\u001b[0m\u001b[0mfactor_info\u001b[0m\u001b[1;33m]\u001b[0m \u001b[1;33m=\u001b[0m \u001b[0mis_NA\u001b[0m\u001b[1;33m\u001b[0m\u001b[1;33m\u001b[0m\u001b[0m\n",
      "\u001b[1;32m~\\anaconda3\\lib\\site-packages\\patsy\\build.py\u001b[0m in \u001b[0;36m_eval_factor\u001b[1;34m(factor_info, data, NA_action)\u001b[0m\n\u001b[0;32m     62\u001b[0m     \u001b[0mfactor\u001b[0m \u001b[1;33m=\u001b[0m \u001b[0mfactor_info\u001b[0m\u001b[1;33m.\u001b[0m\u001b[0mfactor\u001b[0m\u001b[1;33m\u001b[0m\u001b[1;33m\u001b[0m\u001b[0m\n\u001b[1;32m---> 63\u001b[1;33m     \u001b[0mresult\u001b[0m \u001b[1;33m=\u001b[0m \u001b[0mfactor\u001b[0m\u001b[1;33m.\u001b[0m\u001b[0meval\u001b[0m\u001b[1;33m(\u001b[0m\u001b[0mfactor_info\u001b[0m\u001b[1;33m.\u001b[0m\u001b[0mstate\u001b[0m\u001b[1;33m,\u001b[0m \u001b[0mdata\u001b[0m\u001b[1;33m)\u001b[0m\u001b[1;33m\u001b[0m\u001b[1;33m\u001b[0m\u001b[0m\n\u001b[0m\u001b[0;32m     64\u001b[0m     \u001b[1;31m# Returns either a 2d ndarray, or a DataFrame, plus is_NA mask\u001b[0m\u001b[1;33m\u001b[0m\u001b[1;33m\u001b[0m\u001b[0m\n",
      "\u001b[1;32m~\\anaconda3\\lib\\site-packages\\patsy\\eval.py\u001b[0m in \u001b[0;36meval\u001b[1;34m(self, memorize_state, data)\u001b[0m\n\u001b[0;32m    563\u001b[0m     \u001b[1;32mdef\u001b[0m \u001b[0meval\u001b[0m\u001b[1;33m(\u001b[0m\u001b[0mself\u001b[0m\u001b[1;33m,\u001b[0m \u001b[0mmemorize_state\u001b[0m\u001b[1;33m,\u001b[0m \u001b[0mdata\u001b[0m\u001b[1;33m)\u001b[0m\u001b[1;33m:\u001b[0m\u001b[1;33m\u001b[0m\u001b[1;33m\u001b[0m\u001b[0m\n\u001b[1;32m--> 564\u001b[1;33m         return self._eval(memorize_state[\"eval_code\"],\n\u001b[0m\u001b[0;32m    565\u001b[0m                           \u001b[0mmemorize_state\u001b[0m\u001b[1;33m,\u001b[0m\u001b[1;33m\u001b[0m\u001b[1;33m\u001b[0m\u001b[0m\n",
      "\u001b[1;32m~\\anaconda3\\lib\\site-packages\\patsy\\eval.py\u001b[0m in \u001b[0;36m_eval\u001b[1;34m(self, code, memorize_state, data)\u001b[0m\n\u001b[0;32m    546\u001b[0m         \u001b[0minner_namespace\u001b[0m \u001b[1;33m=\u001b[0m \u001b[0mVarLookupDict\u001b[0m\u001b[1;33m(\u001b[0m\u001b[1;33m[\u001b[0m\u001b[0mdata\u001b[0m\u001b[1;33m,\u001b[0m \u001b[0mmemorize_state\u001b[0m\u001b[1;33m[\u001b[0m\u001b[1;34m\"transforms\"\u001b[0m\u001b[1;33m]\u001b[0m\u001b[1;33m]\u001b[0m\u001b[1;33m)\u001b[0m\u001b[1;33m\u001b[0m\u001b[1;33m\u001b[0m\u001b[0m\n\u001b[1;32m--> 547\u001b[1;33m         return call_and_wrap_exc(\"Error evaluating factor\",\n\u001b[0m\u001b[0;32m    548\u001b[0m                                  \u001b[0mself\u001b[0m\u001b[1;33m,\u001b[0m\u001b[1;33m\u001b[0m\u001b[1;33m\u001b[0m\u001b[0m\n",
      "\u001b[1;32m~\\anaconda3\\lib\\site-packages\\patsy\\compat.py\u001b[0m in \u001b[0;36mcall_and_wrap_exc\u001b[1;34m(msg, origin, f, *args, **kwargs)\u001b[0m\n\u001b[0;32m     42\u001b[0m             \u001b[1;31m# Use 'exec' to hide this syntax from the Python 2 parser:\u001b[0m\u001b[1;33m\u001b[0m\u001b[1;33m\u001b[0m\u001b[0m\n\u001b[1;32m---> 43\u001b[1;33m             \u001b[0mexec\u001b[0m\u001b[1;33m(\u001b[0m\u001b[1;34m\"raise new_exc from e\"\u001b[0m\u001b[1;33m)\u001b[0m\u001b[1;33m\u001b[0m\u001b[1;33m\u001b[0m\u001b[0m\n\u001b[0m\u001b[0;32m     44\u001b[0m         \u001b[1;32melse\u001b[0m\u001b[1;33m:\u001b[0m\u001b[1;33m\u001b[0m\u001b[1;33m\u001b[0m\u001b[0m\n",
      "\u001b[1;32m~\\anaconda3\\lib\\site-packages\\patsy\\compat.py\u001b[0m in \u001b[0;36m<module>\u001b[1;34m\u001b[0m\n",
      "\u001b[1;31mPatsyError\u001b[0m: Error evaluating factor: NameError: name 'engine_size' is not defined\n    price_in_thousands ~ engine_size + fuel_efficiency\n                         ^^^^^^^^^^^",
      "\nDuring handling of the above exception, another exception occurred:\n",
      "\u001b[1;31mPatsyError\u001b[0m                                Traceback (most recent call last)",
      "\u001b[1;32m~\\AppData\\Local\\Temp/ipykernel_12704/1299917218.py\u001b[0m in \u001b[0;36m<module>\u001b[1;34m\u001b[0m\n\u001b[1;32m----> 1\u001b[1;33m \u001b[0mdf_test\u001b[0m\u001b[1;33m[\u001b[0m\u001b[1;34m'Prediction'\u001b[0m\u001b[1;33m]\u001b[0m\u001b[1;33m=\u001b[0m\u001b[0mmodel\u001b[0m\u001b[1;33m.\u001b[0m\u001b[0mpredict\u001b[0m\u001b[1;33m(\u001b[0m\u001b[0mdf_test\u001b[0m\u001b[1;33m)\u001b[0m \u001b[1;31m# predict = all row prediction ( Auto )\u001b[0m\u001b[1;33m\u001b[0m\u001b[1;33m\u001b[0m\u001b[0m\n\u001b[0m\u001b[0;32m      2\u001b[0m \u001b[0mdf_test\u001b[0m\u001b[1;33m.\u001b[0m\u001b[0mhead\u001b[0m\u001b[1;33m(\u001b[0m\u001b[1;33m)\u001b[0m\u001b[1;33m\u001b[0m\u001b[1;33m\u001b[0m\u001b[0m\n",
      "\u001b[1;32m~\\anaconda3\\lib\\site-packages\\statsmodels\\base\\model.py\u001b[0m in \u001b[0;36mpredict\u001b[1;34m(self, exog, transform, *args, **kwargs)\u001b[0m\n\u001b[0;32m   1082\u001b[0m                        \u001b[1;34m'\\n\\nThe original error message returned by patsy is:\\n'\u001b[0m\u001b[1;33m\u001b[0m\u001b[1;33m\u001b[0m\u001b[0m\n\u001b[0;32m   1083\u001b[0m                        '{0}'.format(str(str(exc))))\n\u001b[1;32m-> 1084\u001b[1;33m                 \u001b[1;32mraise\u001b[0m \u001b[0mexc\u001b[0m\u001b[1;33m.\u001b[0m\u001b[0m__class__\u001b[0m\u001b[1;33m(\u001b[0m\u001b[0mmsg\u001b[0m\u001b[1;33m)\u001b[0m\u001b[1;33m\u001b[0m\u001b[1;33m\u001b[0m\u001b[0m\n\u001b[0m\u001b[0;32m   1085\u001b[0m             \u001b[1;32mif\u001b[0m \u001b[0morig_exog_len\u001b[0m \u001b[1;33m>\u001b[0m \u001b[0mlen\u001b[0m\u001b[1;33m(\u001b[0m\u001b[0mexog\u001b[0m\u001b[1;33m)\u001b[0m \u001b[1;32mand\u001b[0m \u001b[1;32mnot\u001b[0m \u001b[0mis_dict\u001b[0m\u001b[1;33m:\u001b[0m\u001b[1;33m\u001b[0m\u001b[1;33m\u001b[0m\u001b[0m\n\u001b[0;32m   1086\u001b[0m                 \u001b[1;32mif\u001b[0m \u001b[0mexog_index\u001b[0m \u001b[1;32mis\u001b[0m \u001b[1;32mNone\u001b[0m\u001b[1;33m:\u001b[0m\u001b[1;33m\u001b[0m\u001b[1;33m\u001b[0m\u001b[0m\n",
      "\u001b[1;31mPatsyError\u001b[0m: predict requires that you use a DataFrame when predicting from a model\nthat was created using the formula api.\n\nThe original error message returned by patsy is:\nError evaluating factor: NameError: name 'engine_size' is not defined\n    price_in_thousands ~ engine_size + fuel_efficiency\n                         ^^^^^^^^^^^"
     ]
    }
   ],
   "source": [
    "df_test['Prediction']=model.predict(df_test) # predict = all row prediction ( Auto )\n",
    "df_test.head()"
   ]
  },
  {
   "cell_type": "code",
   "execution_count": null,
   "id": "db313ac2",
   "metadata": {},
   "outputs": [],
   "source": []
  }
 ],
 "metadata": {
  "kernelspec": {
   "display_name": "Python 3 (ipykernel)",
   "language": "python",
   "name": "python3"
  },
  "language_info": {
   "codemirror_mode": {
    "name": "ipython",
    "version": 3
   },
   "file_extension": ".py",
   "mimetype": "text/x-python",
   "name": "python",
   "nbconvert_exporter": "python",
   "pygments_lexer": "ipython3",
   "version": "3.9.7"
  }
 },
 "nbformat": 4,
 "nbformat_minor": 5
}
